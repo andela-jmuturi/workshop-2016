{
 "cells": [
  {
   "cell_type": "code",
   "execution_count": 20,
   "metadata": {
    "collapsed": false
   },
   "outputs": [],
   "source": [
    "class LogicGate:\n",
    "    def __init__(self, n):\n",
    "        self.label = n\n",
    "        self.output = None\n",
    "    \n",
    "    def getLabel(self):\n",
    "        return self.label\n",
    "    \n",
    "    def getOutput(self):\n",
    "        return self.performGateLogic()\n",
    "    \n",
    "    def __repr__(self):\n",
    "        return \"{}({!r:})\".format(self.__class__.__name__, self.label)\n",
    "\n",
    "class BinaryGate(LogicGate):\n",
    "    def __init__(self, n):\n",
    "        super().__init__(n)\n",
    "        \n",
    "        self.pinA = None\n",
    "        self.pinB = None\n",
    "    \n",
    "    def getPinA(self):\n",
    "        return int(input(\"Enter Pin A input for gate {}: \".format(self.getLabel())))\n",
    "    \n",
    "    def getPinB(self):\n",
    "        return int(input(\"Enter Pin A input for gate {}: \".format(self.getLabel())))\n",
    "\n",
    "class UnaryGate(LogicGate):\n",
    "    def __init__(self, n):\n",
    "        super().__init__(n)\n",
    "        \n",
    "        self.pin = None\n",
    "\n",
    "    def getPin(self):\n",
    "        return int(input(\"Enter Pin A input for gate {}: \".format(self.getLabel())))\n",
    "    \n",
    "class AndGate(BinaryGate):\n",
    "    def __init__(self, n):\n",
    "        super().__init__(n)\n",
    "    \n",
    "    def performGateLogic(self):\n",
    "        return 1 if self.getPinA() == self.getPinB() == 1 else 0"
   ]
  },
  {
   "cell_type": "code",
   "execution_count": 21,
   "metadata": {
    "collapsed": false
   },
   "outputs": [],
   "source": [
    "g1 = AndGate('G1')"
   ]
  },
  {
   "cell_type": "code",
   "execution_count": 23,
   "metadata": {
    "collapsed": false
   },
   "outputs": [
    {
     "data": {
      "text/plain": [
       "AndGate('G1')"
      ]
     },
     "execution_count": 23,
     "metadata": {},
     "output_type": "execute_result"
    }
   ],
   "source": [
    "g1"
   ]
  },
  {
   "cell_type": "code",
   "execution_count": 24,
   "metadata": {
    "collapsed": false
   },
   "outputs": [
    {
     "name": "stdout",
     "output_type": "stream",
     "text": [
      "Enter Pin A input for gate G1: 1\n",
      "Enter Pin A input for gate G1: 0\n"
     ]
    },
    {
     "data": {
      "text/plain": [
       "0"
      ]
     },
     "execution_count": 24,
     "metadata": {},
     "output_type": "execute_result"
    }
   ],
   "source": [
    "g1.getOutput()"
   ]
  },
  {
   "cell_type": "code",
   "execution_count": null,
   "metadata": {
    "collapsed": true
   },
   "outputs": [],
   "source": []
  }
 ],
 "metadata": {
  "kernelspec": {
   "display_name": "Python 3",
   "language": "python",
   "name": "python3"
  },
  "language_info": {
   "codemirror_mode": {
    "name": "ipython",
    "version": 3
   },
   "file_extension": ".py",
   "mimetype": "text/x-python",
   "name": "python",
   "nbconvert_exporter": "python",
   "pygments_lexer": "ipython3",
   "version": "3.5.2"
  }
 },
 "nbformat": 4,
 "nbformat_minor": 0
}
