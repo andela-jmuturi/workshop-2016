{
 "cells": [
  {
   "cell_type": "markdown",
   "metadata": {},
   "source": [
    "## Converting decimals to binary (Divide by 2)\n",
    "\n",
    "### Algorithm Description\n",
    "> Starting with an integer greater than 0, iterate and continuously divide the decimal number by 2 while keeping track of the remainder. The last remainder with be the first digit of the binary number while the first remainder will be the last."
   ]
  },
  {
   "cell_type": "code",
   "execution_count": 4,
   "metadata": {
    "collapsed": false
   },
   "outputs": [
    {
     "name": "stdout",
     "output_type": "stream",
     "text": [
      "101010\n"
     ]
    }
   ],
   "source": [
    "from stack import Stack\n",
    "\n",
    "def divideBy2(decNumber):\n",
    "    remainder_stack = Stack()\n",
    "    \n",
    "    while decNumber > 0:\n",
    "        remainder = decNumber % 2\n",
    "        remainder_stack.push(remainder)\n",
    "        decNumber //= 2\n",
    "    bin_digits = []\n",
    "    while not remainder_stack.isEmpty():\n",
    "        bin_digits.append(str(remainder_stack.pop()))\n",
    "    return ''.join(bin_digits)\n",
    "\n",
    "print(divideBy2(42))\n",
    "assert divideBy2(42) == bin(42)[2:]"
   ]
  },
  {
   "cell_type": "markdown",
   "metadata": {},
   "source": [
    "**The divideBy2 algorithm can be extended to accept the decimal to convert and the base to convert it to.**\n",
    "\n",
    "However, when the base is greater than 10, digits 0 - 9 can no longer be used to completely represent remainders, which would be represented as, at minimum, 2-digit numbers. Instead, a set of alphabets can be used to represent remainders beyond 9."
   ]
  },
  {
   "cell_type": "code",
   "execution_count": 9,
   "metadata": {
    "collapsed": false
   },
   "outputs": [
    {
     "name": "stdout",
     "output_type": "stream",
     "text": [
      "11001\n",
      "19\n"
     ]
    }
   ],
   "source": [
    "from stack import Stack\n",
    "\n",
    "def base_converter(number, base):\n",
    "    if not 2 <= base <= 16:\n",
    "        raise ValueError('Invalid Base %d. Expected base range 2 - 16' % base)\n",
    "\n",
    "    digits = '0123456789ABCDEF'\n",
    "    rem_stack = Stack()\n",
    "    while number > 0:\n",
    "        rem = number % base\n",
    "        rem_stack.push(rem)\n",
    "        number //= base\n",
    "\n",
    "    base_digits = []\n",
    "    while not rem_stack.isEmpty():\n",
    "        base_digits.append(digits[rem_stack.pop()])\n",
    "    return ''.join(base_digits)\n",
    "\n",
    "print(base_converter(25, 2))\n",
    "print(base_converter(25, 16))"
   ]
  },
  {
   "cell_type": "code",
   "execution_count": 10,
   "metadata": {
    "collapsed": false
   },
   "outputs": [
    {
     "ename": "ValueError",
     "evalue": "Invalid Base 26. Expected base range 2 - 16",
     "output_type": "error",
     "traceback": [
      "\u001b[0;31m---------------------------------------------------------------------------\u001b[0m",
      "\u001b[0;31mValueError\u001b[0m                                Traceback (most recent call last)",
      "\u001b[0;32m<ipython-input-10-295895031596>\u001b[0m in \u001b[0;36m<module>\u001b[0;34m()\u001b[0m\n\u001b[0;32m----> 1\u001b[0;31m \u001b[0mbase_converter\u001b[0m\u001b[0;34m(\u001b[0m\u001b[0;36m26\u001b[0m\u001b[0;34m,\u001b[0m \u001b[0;36m26\u001b[0m\u001b[0;34m)\u001b[0m\u001b[0;34m\u001b[0m\u001b[0m\n\u001b[0m",
      "\u001b[0;32m<ipython-input-9-ad2669f79ff2>\u001b[0m in \u001b[0;36mbase_converter\u001b[0;34m(number, base)\u001b[0m\n\u001b[1;32m      3\u001b[0m \u001b[0;32mdef\u001b[0m \u001b[0mbase_converter\u001b[0m\u001b[0;34m(\u001b[0m\u001b[0mnumber\u001b[0m\u001b[0;34m,\u001b[0m \u001b[0mbase\u001b[0m\u001b[0;34m)\u001b[0m\u001b[0;34m:\u001b[0m\u001b[0;34m\u001b[0m\u001b[0m\n\u001b[1;32m      4\u001b[0m     \u001b[0;32mif\u001b[0m \u001b[0;32mnot\u001b[0m \u001b[0;36m2\u001b[0m \u001b[0;34m<=\u001b[0m \u001b[0mbase\u001b[0m \u001b[0;34m<=\u001b[0m \u001b[0;36m16\u001b[0m\u001b[0;34m:\u001b[0m\u001b[0;34m\u001b[0m\u001b[0m\n\u001b[0;32m----> 5\u001b[0;31m         \u001b[0;32mraise\u001b[0m \u001b[0mValueError\u001b[0m\u001b[0;34m(\u001b[0m\u001b[0;34m'Invalid Base %d. Expected base range 2 - 16'\u001b[0m \u001b[0;34m%\u001b[0m \u001b[0mbase\u001b[0m\u001b[0;34m)\u001b[0m\u001b[0;34m\u001b[0m\u001b[0m\n\u001b[0m\u001b[1;32m      6\u001b[0m \u001b[0;34m\u001b[0m\u001b[0m\n\u001b[1;32m      7\u001b[0m     \u001b[0mdigits\u001b[0m \u001b[0;34m=\u001b[0m \u001b[0;34m'0123456789ABCDEF'\u001b[0m\u001b[0;34m\u001b[0m\u001b[0m\n",
      "\u001b[0;31mValueError\u001b[0m: Invalid Base 26. Expected base range 2 - 16"
     ]
    }
   ],
   "source": [
    "base_converter(26, 26)"
   ]
  },
  {
   "cell_type": "code",
   "execution_count": 11,
   "metadata": {
    "collapsed": false
   },
   "outputs": [
    {
     "data": {
      "text/plain": [
       "'10'"
      ]
     },
     "execution_count": 11,
     "metadata": {},
     "output_type": "execute_result"
    }
   ],
   "source": [
    "base_converter(8, 8)"
   ]
  },
  {
   "cell_type": "code",
   "execution_count": 12,
   "metadata": {
    "collapsed": false
   },
   "outputs": [
    {
     "data": {
      "text/plain": [
       "'10'"
      ]
     },
     "execution_count": 12,
     "metadata": {},
     "output_type": "execute_result"
    }
   ],
   "source": [
    "base_converter(2, 2)"
   ]
  },
  {
   "cell_type": "code",
   "execution_count": null,
   "metadata": {
    "collapsed": true
   },
   "outputs": [],
   "source": []
  }
 ],
 "metadata": {
  "kernelspec": {
   "display_name": "Python 3",
   "language": "python",
   "name": "python3"
  },
  "language_info": {
   "codemirror_mode": {
    "name": "ipython",
    "version": 3
   },
   "file_extension": ".py",
   "mimetype": "text/x-python",
   "name": "python",
   "nbconvert_exporter": "python",
   "pygments_lexer": "ipython3",
   "version": "3.5.2"
  }
 },
 "nbformat": 4,
 "nbformat_minor": 0
}
