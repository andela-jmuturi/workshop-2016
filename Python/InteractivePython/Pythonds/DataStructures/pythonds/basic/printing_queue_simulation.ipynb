{
 "cells": [
  {
   "cell_type": "code",
   "execution_count": 3,
   "metadata": {
    "collapsed": false
   },
   "outputs": [
    {
     "name": "stdout",
     "output_type": "stream",
     "text": [
      "Average wait:  53.67 secs   0 tasks remaining.\n",
      "Average wait:  53.24 secs   0 tasks remaining.\n",
      "Average wait: 116.35 secs   1 tasks remaining.\n",
      "Average wait:  31.75 secs   0 tasks remaining.\n",
      "Average wait: 500.76 secs   2 tasks remaining.\n",
      "Average wait:  68.94 secs   8 tasks remaining.\n",
      "Average wait:  44.00 secs   0 tasks remaining.\n",
      "Average wait:  85.71 secs   0 tasks remaining.\n",
      "Average wait:  82.32 secs   0 tasks remaining.\n",
      "Average wait: 148.67 secs   0 tasks remaining.\n"
     ]
    }
   ],
   "source": [
    "import random\n",
    "\n",
    "from queue_adt import Queue\n",
    "\n",
    "\n",
    "class Printer:\n",
    "    def __init__(self, ppm):\n",
    "        self.pagerate = ppm\n",
    "        self.current_task = None\n",
    "        self.time_remaining = 0\n",
    "    \n",
    "    def busy(self):\n",
    "        return self.current_task != None\n",
    "    \n",
    "    def tick(self):\n",
    "        if self.current_task != None:\n",
    "            self.time_remaining -= 1\n",
    "            if self.time_remaining <= 0:\n",
    "                self.current_task = None\n",
    "    \n",
    "    def start_next(self, newtask):\n",
    "        self.current_task = newtask\n",
    "        self.time_remaining = newtask.get_pages() * 60 / self.pagerate\n",
    "\n",
    "        \n",
    "class Task:\n",
    "    def __init__(self, time):\n",
    "        self.timestamp = time\n",
    "        self.pages = random.randrange(1, 21)\n",
    "    \n",
    "    def get_stamp(self):\n",
    "        return self.timestamp\n",
    "    \n",
    "    def get_pages(self):\n",
    "        return self.pages\n",
    "    \n",
    "    def wait_time(self, current_time):\n",
    "        return current_time - self.timestamp\n",
    "\n",
    "\n",
    "def simulation(seconds, pages_per_minute):\n",
    "    lab_printer = Printer(pages_per_minute)\n",
    "    print_queue = Queue()\n",
    "    waiting_times = []\n",
    "    \n",
    "    for current_second in range(seconds):\n",
    "        if new_print_task():\n",
    "            print_queue.enqueue(Task(current_second))\n",
    "        \n",
    "        if not lab_printer.busy() and not print_queue.isEmpty():\n",
    "            nexttask = print_queue.dequeue()\n",
    "            waiting_times.append(nexttask.wait_time(current_second))\n",
    "            lab_printer.start_next(nexttask)\n",
    "        lab_printer.tick()\n",
    "    \n",
    "    average_wait = sum(waiting_times) / len(waiting_times)\n",
    "    print('Average wait: %6.2f secs %3d tasks remaining.' % (\n",
    "            average_wait, print_queue.size()))\n",
    "\n",
    "def new_print_task():\n",
    "    return random.randrange(1, 181) == 180\n",
    "\n",
    "for i in range(10):\n",
    "    simulation(3600, 5)"
   ]
  },
  {
   "cell_type": "code",
   "execution_count": 4,
   "metadata": {
    "collapsed": false
   },
   "outputs": [
    {
     "name": "stdout",
     "output_type": "stream",
     "text": [
      "Average wait:   4.00 secs   0 tasks remaining.\n",
      "Average wait:   2.17 secs   0 tasks remaining.\n",
      "Average wait:  10.61 secs   1 tasks remaining.\n",
      "Average wait:  10.53 secs   0 tasks remaining.\n",
      "Average wait:   9.62 secs   0 tasks remaining.\n",
      "Average wait:  18.25 secs   0 tasks remaining.\n",
      "Average wait:  41.20 secs   0 tasks remaining.\n",
      "Average wait:  10.33 secs   0 tasks remaining.\n",
      "Average wait:  37.54 secs   0 tasks remaining.\n",
      "Average wait:  13.00 secs   0 tasks remaining.\n"
     ]
    }
   ],
   "source": [
    "for i in range(10):\n",
    "    simulation(3600, 10)"
   ]
  },
  {
   "cell_type": "markdown",
   "metadata": {},
   "source": [
    "## Self Check\n",
    "> How would you modify the printer simulation to reflect a larger number of students? Suppose that the number of students was doubled. You make need to make some reasonable assumptions about how this simulation was put together but what would you change? Modify the code. Also suppose that the length of the average print task was cut in half. Change the code to reflect that change. Finally How would you parametertize the number of students, rather than changing the code we would like to make the number of students a parameter of the simulation."
   ]
  },
  {
   "cell_type": "code",
   "execution_count": 5,
   "metadata": {
    "collapsed": true
   },
   "outputs": [],
   "source": [
    "def run_simulation(number_of_students, *, ppm=10, lab_period=3600):\n",
    "    for i in range(number_of_students):\n",
    "        simulation(lab_period, ppm)"
   ]
  },
  {
   "cell_type": "code",
   "execution_count": 6,
   "metadata": {
    "collapsed": false
   },
   "outputs": [
    {
     "name": "stdout",
     "output_type": "stream",
     "text": [
      "Average wait:  13.26 secs   2 tasks remaining.\n",
      "Average wait:  15.55 secs   0 tasks remaining.\n",
      "Average wait:  17.28 secs   0 tasks remaining.\n",
      "Average wait:  38.16 secs   0 tasks remaining.\n",
      "Average wait:  31.00 secs   0 tasks remaining.\n",
      "Average wait:   4.93 secs   0 tasks remaining.\n",
      "Average wait:  14.16 secs   0 tasks remaining.\n",
      "Average wait:   5.71 secs   0 tasks remaining.\n",
      "Average wait:  17.14 secs   0 tasks remaining.\n",
      "Average wait:   2.94 secs   0 tasks remaining.\n",
      "Average wait:   7.60 secs   1 tasks remaining.\n",
      "Average wait:   9.75 secs   0 tasks remaining.\n",
      "Average wait:  16.00 secs   0 tasks remaining.\n",
      "Average wait:   5.20 secs   0 tasks remaining.\n",
      "Average wait:  10.67 secs   0 tasks remaining.\n",
      "Average wait:  19.08 secs   0 tasks remaining.\n",
      "Average wait:  19.78 secs   0 tasks remaining.\n",
      "Average wait:  16.05 secs   0 tasks remaining.\n",
      "Average wait:  31.24 secs   0 tasks remaining.\n",
      "Average wait:  15.27 secs   2 tasks remaining.\n"
     ]
    }
   ],
   "source": [
    "run_simulation(20)"
   ]
  },
  {
   "cell_type": "raw",
   "metadata": {},
   "source": []
  },
  {
   "cell_type": "code",
   "execution_count": 7,
   "metadata": {
    "collapsed": false
   },
   "outputs": [
    {
     "name": "stdout",
     "output_type": "stream",
     "text": [
      "Average wait:  11.71 secs   0 tasks remaining.\n",
      "Average wait:  14.70 secs   0 tasks remaining.\n",
      "Average wait:  31.29 secs   0 tasks remaining.\n",
      "Average wait:   1.50 secs   0 tasks remaining.\n",
      "Average wait:  25.65 secs   0 tasks remaining.\n",
      "Average wait:  12.44 secs   0 tasks remaining.\n",
      "Average wait:  69.59 secs   0 tasks remaining.\n",
      "Average wait:  21.52 secs   0 tasks remaining.\n",
      "Average wait:   6.82 secs   0 tasks remaining.\n",
      "Average wait:  16.04 secs   0 tasks remaining.\n"
     ]
    }
   ],
   "source": [
    "run_simulation(10)"
   ]
  },
  {
   "cell_type": "code",
   "execution_count": 10,
   "metadata": {
    "collapsed": false
   },
   "outputs": [
    {
     "name": "stdout",
     "output_type": "stream",
     "text": [
      "Average wait: 103.35 secs   0 tasks remaining.\n",
      "Average wait:  26.57 secs   1 tasks remaining.\n",
      "Average wait:  93.95 secs   1 tasks remaining.\n",
      "Average wait:  63.59 secs   0 tasks remaining.\n",
      "Average wait: 137.43 secs   2 tasks remaining.\n",
      "Average wait:  43.95 secs   1 tasks remaining.\n",
      "Average wait: 333.00 secs   1 tasks remaining.\n",
      "Average wait:  71.37 secs   0 tasks remaining.\n",
      "Average wait: 123.04 secs   0 tasks remaining.\n",
      "Average wait: 171.33 secs   0 tasks remaining.\n",
      "Average wait: 125.50 secs   0 tasks remaining.\n",
      "Average wait:  61.67 secs   0 tasks remaining.\n",
      "Average wait:  67.24 secs   0 tasks remaining.\n",
      "Average wait:  89.55 secs   0 tasks remaining.\n",
      "Average wait: 151.46 secs   3 tasks remaining.\n",
      "Average wait: 408.77 secs   3 tasks remaining.\n",
      "Average wait: 358.00 secs   3 tasks remaining.\n",
      "Average wait: 129.48 secs   3 tasks remaining.\n",
      "Average wait:  78.08 secs   0 tasks remaining.\n",
      "Average wait:  32.37 secs   1 tasks remaining.\n"
     ]
    }
   ],
   "source": [
    "run_simulation(20, ppm=5)"
   ]
  },
  {
   "cell_type": "code",
   "execution_count": 14,
   "metadata": {
    "collapsed": false
   },
   "outputs": [
    {
     "name": "stdout",
     "output_type": "stream",
     "text": [
      "Average wait:   5.91 secs   0 tasks remaining.\n",
      "Average wait:   9.16 secs   0 tasks remaining.\n",
      "Average wait:   4.52 secs   0 tasks remaining.\n",
      "Average wait:   1.91 secs   0 tasks remaining.\n",
      "Average wait:   7.18 secs   0 tasks remaining.\n",
      "Average wait:   3.42 secs   0 tasks remaining.\n",
      "Average wait:   2.47 secs   0 tasks remaining.\n",
      "Average wait:   3.00 secs   0 tasks remaining.\n",
      "Average wait:   4.35 secs   0 tasks remaining.\n",
      "Average wait:  23.77 secs   0 tasks remaining.\n"
     ]
    }
   ],
   "source": [
    "import random\n",
    "\n",
    "from queue_adt import Queue\n",
    "\n",
    "\n",
    "class Printer:\n",
    "    def __init__(self, ppm):\n",
    "        self.pagerate = ppm\n",
    "        self.current_task = None\n",
    "        self.time_remaining = 0\n",
    "    \n",
    "    def busy(self):\n",
    "        return self.current_task != None\n",
    "    \n",
    "    def tick(self):\n",
    "        if self.current_task != None:\n",
    "            self.time_remaining -= 1\n",
    "            if self.time_remaining <= 0:\n",
    "                self.current_task = None\n",
    "    \n",
    "    def start_next(self, newtask):\n",
    "        self.current_task = newtask\n",
    "        self.time_remaining = (newtask.get_pages() * 60 / self.pagerate) // 2\n",
    "\n",
    "        \n",
    "class Task:\n",
    "    def __init__(self, time):\n",
    "        self.timestamp = time\n",
    "        self.pages = random.randrange(1, 21)\n",
    "    \n",
    "    def get_stamp(self):\n",
    "        return self.timestamp\n",
    "    \n",
    "    def get_pages(self):\n",
    "        return self.pages\n",
    "    \n",
    "    def wait_time(self, current_time):\n",
    "        return current_time - self.timestamp\n",
    "\n",
    "\n",
    "def simulation(seconds, pages_per_minute):\n",
    "    lab_printer = Printer(pages_per_minute)\n",
    "    print_queue = Queue()\n",
    "    waiting_times = []\n",
    "    \n",
    "    for current_second in range(seconds):\n",
    "        if new_print_task():\n",
    "            print_queue.enqueue(Task(current_second))\n",
    "        \n",
    "        if not lab_printer.busy() and not print_queue.isEmpty():\n",
    "            nexttask = print_queue.dequeue()\n",
    "            waiting_times.append(nexttask.wait_time(current_second))\n",
    "            lab_printer.start_next(nexttask)\n",
    "        lab_printer.tick()\n",
    "    \n",
    "    average_wait = sum(waiting_times) / len(waiting_times)\n",
    "    print('Average wait: %6.2f secs %3d tasks remaining.' % (\n",
    "            average_wait, print_queue.size()))\n",
    "\n",
    "def new_print_task():\n",
    "    return random.randrange(1, 181) == 180\n",
    "\n",
    "def run_simulation(number_of_students, *, ppm=10, lab_period=3600):\n",
    "    for i in range(number_of_students):\n",
    "        simulation(lab_period, ppm)\n",
    "\n",
    "run_simulation(20)"
   ]
  },
  {
   "cell_type": "code",
   "execution_count": 15,
   "metadata": {
    "collapsed": false
   },
   "outputs": [
    {
     "name": "stdout",
     "output_type": "stream",
     "text": [
      "Average wait:  26.46 secs   1 tasks remaining.\n",
      "Average wait:  15.50 secs   0 tasks remaining.\n",
      "Average wait:  15.33 secs   0 tasks remaining.\n",
      "Average wait:  54.25 secs   0 tasks remaining.\n",
      "Average wait:  36.23 secs   0 tasks remaining.\n",
      "Average wait:  32.00 secs   0 tasks remaining.\n",
      "Average wait:  26.27 secs   0 tasks remaining.\n",
      "Average wait:   3.46 secs   0 tasks remaining.\n",
      "Average wait:  41.73 secs   0 tasks remaining.\n",
      "Average wait:  24.53 secs   0 tasks remaining.\n",
      "Average wait:  29.00 secs   1 tasks remaining.\n",
      "Average wait:  46.53 secs   0 tasks remaining.\n",
      "Average wait:   6.00 secs   0 tasks remaining.\n",
      "Average wait:  19.77 secs   0 tasks remaining.\n",
      "Average wait:  23.14 secs   1 tasks remaining.\n",
      "Average wait:   9.12 secs   0 tasks remaining.\n",
      "Average wait:   7.81 secs   0 tasks remaining.\n",
      "Average wait:  11.27 secs   0 tasks remaining.\n",
      "Average wait:  51.73 secs   0 tasks remaining.\n",
      "Average wait:  17.78 secs   0 tasks remaining.\n"
     ]
    }
   ],
   "source": [
    "run_simulation(20, ppm=5)"
   ]
  },
  {
   "cell_type": "code",
   "execution_count": null,
   "metadata": {
    "collapsed": true
   },
   "outputs": [],
   "source": []
  }
 ],
 "metadata": {
  "kernelspec": {
   "display_name": "Python 3",
   "language": "python",
   "name": "python3"
  },
  "language_info": {
   "codemirror_mode": {
    "name": "ipython",
    "version": 3
   },
   "file_extension": ".py",
   "mimetype": "text/x-python",
   "name": "python",
   "nbconvert_exporter": "python",
   "pygments_lexer": "ipython3",
   "version": "3.5.2"
  }
 },
 "nbformat": 4,
 "nbformat_minor": 1
}
