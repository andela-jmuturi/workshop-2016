{
 "cells": [
  {
   "cell_type": "code",
   "execution_count": 4,
   "metadata": {
    "collapsed": false
   },
   "outputs": [
    {
     "name": "stdout",
     "output_type": "stream",
     "text": [
      "A B * C D * +\n",
      "A B + C * D E - F G + * -\n"
     ]
    }
   ],
   "source": [
    "from stack import Stack\n",
    "\n",
    "\n",
    "def infix_to_postfix(infix_expr):\n",
    "    # define precedence of operators.\n",
    "    prec = {}\n",
    "    prec[\"*\"] = 3\n",
    "    prec[\"/\"] = 3\n",
    "    prec[\"+\"] = 2\n",
    "    prec[\"-\"] = 2\n",
    "    prec[\"(\"] = 1\n",
    "    \n",
    "    # Create a Stack to hold operators\n",
    "    op_stack = Stack()\n",
    "    \n",
    "    # Hold the postfix expression in a list\n",
    "    postfix_list = []\n",
    "    \n",
    "    # tokenize the infix expression\n",
    "    token_list = infix_expr.split()\n",
    "    \n",
    "    for token in token_list:\n",
    "        # if the current token is an operand, append it directly into the\n",
    "        # postfix expression list.\n",
    "        if token in 'ABCDEFGHIJKLMNOPQRSTUVWXYZ' or token in '0123456789':\n",
    "            postfix_list.append(token)\n",
    "        \n",
    "        # if the token in an opening parens, push it on the operators stack.\n",
    "        elif token == '(':\n",
    "            op_stack.push(token)\n",
    "        \n",
    "        # if the token is a closing parens, keep popping the stack and appending\n",
    "        # the popped value onto the postfix list until you come across the\n",
    "        # corresponding opening parens. This will add any operators that\n",
    "        # may be on the opstack to the postfix list.\n",
    "        elif token == ')':\n",
    "            top_token = op_stack.pop()\n",
    "            while top_token != '(':\n",
    "                postfix_list.append(top_token)\n",
    "                top_token = op_stack.pop()\n",
    "        \n",
    "        # if the token is an operator, push it onto the op_stack. However, first\n",
    "        # remove any operators already on the op_stack that have a higher or equal\n",
    "        # precedence and append them to the postfix list.\n",
    "        else:\n",
    "            while (not op_stack.isEmpty()) and (prec[op_stack.peek()] > prec[token]):\n",
    "                postfix_list.append(op_stack.pop())\n",
    "            op_stack.push(token)\n",
    "    \n",
    "    # if there's stuff still on the op_stack after fully processing the input,\n",
    "    # append it onto the postfix list.\n",
    "    while not op_stack.isEmpty():\n",
    "        postfix_list.append(op_stack.pop())\n",
    "\n",
    "    return ' '.join(postfix_list)\n",
    "\n",
    "print(infix_to_postfix('A * B + C * D'))\n",
    "print(infix_to_postfix('( A + B ) * C - ( D - E ) * ( F + G )'))"
   ]
  },
  {
   "cell_type": "code",
   "execution_count": 12,
   "metadata": {
    "collapsed": false
   },
   "outputs": [
    {
     "name": "stdout",
     "output_type": "stream",
     "text": [
      "3.0\n"
     ]
    }
   ],
   "source": [
    "from stack import Stack\n",
    "\n",
    "def postfix_eval(postfix_expr):\n",
    "    \"\"\"Given a postfix expression, evaluate it and return the result\"\"\"\n",
    "    # Create a stack to hold operands.\n",
    "    operands_stack = Stack()\n",
    "    \n",
    "    # tokenize input\n",
    "    token_list = postfix_expr.split()\n",
    "    \n",
    "    for token in token_list:\n",
    "        # If the token is an operand, push it onto the operands_stack\n",
    "        if token in '0123456789':\n",
    "            operands_stack.push(int(token))\n",
    "        \n",
    "        # Else, pop the stack twice. The first pop yields the second operand while\n",
    "        # the second pop yields the first operand.\n",
    "        else:\n",
    "            op2 = operands_stack.pop()\n",
    "            op1 = operands_stack.pop()\n",
    "            result = do_math(token, op1, op2)\n",
    "            \n",
    "            # push the result back into the operand stack in readiness to operate on\n",
    "            # it using the next operator\n",
    "            operands_stack.push(result)\n",
    "    \n",
    "    return operands_stack.pop()\n",
    "\n",
    "def do_math(op, op1, op2):\n",
    "    if op == '*':\n",
    "        return op1 * op2\n",
    "    elif op == '/':\n",
    "        return op1 / op2\n",
    "    elif op == '+':\n",
    "        return op1 + op2\n",
    "    return op1 - op2\n",
    "\n",
    "print(postfix_eval('7 8 + 3 2 + /'))"
   ]
  },
  {
   "cell_type": "code",
   "execution_count": 14,
   "metadata": {
    "collapsed": true
   },
   "outputs": [],
   "source": [
    "from stack import Stack\n",
    "\n",
    "\n",
    "def infix_to_postfix_v2(infix_expr):\n",
    "    # define precedence of operators.\n",
    "    prec = {}\n",
    "    prec[\"**\"] = 4\n",
    "    prec[\"*\"] = 3\n",
    "    prec[\"/\"] = 3\n",
    "    prec[\"+\"] = 2\n",
    "    prec[\"-\"] = 2\n",
    "    prec[\"(\"] = 1\n",
    "    \n",
    "    # Create a Stack to hold operators\n",
    "    op_stack = Stack()\n",
    "    \n",
    "    # Hold the postfix expression in a list\n",
    "    postfix_list = []\n",
    "    \n",
    "    # tokenize the infix expression\n",
    "    token_list = infix_expr.split()\n",
    "    \n",
    "    for token in token_list:\n",
    "        # if the current token is an operand, append it directly into the\n",
    "        # postfix expression list.\n",
    "        if token in 'ABCDEFGHIJKLMNOPQRSTUVWXYZ' or token in '0123456789':\n",
    "            postfix_list.append(token)\n",
    "        \n",
    "        # if the token in an opening parens, push it on the operators stack.\n",
    "        elif token == '(':\n",
    "            op_stack.push(token)\n",
    "        \n",
    "        # if the token is a closing parens, keep popping the stack and appending\n",
    "        # the popped value onto the postfix list until you come across the\n",
    "        # corresponding opening parens. This will add any operators that\n",
    "        # may be on the opstack to the postfix list.\n",
    "        elif token == ')':\n",
    "            top_token = op_stack.pop()\n",
    "            while top_token != '(':\n",
    "                postfix_list.append(top_token)\n",
    "                top_token = op_stack.pop()\n",
    "        \n",
    "        # if the token is an operator, push it onto the op_stack. However, first\n",
    "        # remove any operators already on the op_stack that have a higher or equal\n",
    "        # precedence and append them to the postfix list.\n",
    "        else:\n",
    "            while (not op_stack.isEmpty()) and (prec[op_stack.peek()] > prec[token]):\n",
    "                postfix_list.append(op_stack.pop())\n",
    "            op_stack.push(token)\n",
    "    \n",
    "    # if there's stuff still on the op_stack after fully processing the input,\n",
    "    # append it onto the postfix list.\n",
    "    while not op_stack.isEmpty():\n",
    "        postfix_list.append(op_stack.pop())\n",
    "\n",
    "    return ' '.join(postfix_list)"
   ]
  },
  {
   "cell_type": "code",
   "execution_count": 15,
   "metadata": {
    "collapsed": false
   },
   "outputs": [
    {
     "name": "stdout",
     "output_type": "stream",
     "text": [
      "5 3 4 2 - ** *\n"
     ]
    }
   ],
   "source": [
    "print(infix_to_postfix_v2('5 * 3 ** ( 4 - 2 )'))"
   ]
  },
  {
   "cell_type": "code",
   "execution_count": 16,
   "metadata": {
    "collapsed": false
   },
   "outputs": [
    {
     "data": {
      "text/plain": [
       "5"
      ]
     },
     "execution_count": 16,
     "metadata": {},
     "output_type": "execute_result"
    }
   ],
   "source": [
    "postfix_eval('5 3 4 2 - ** *')"
   ]
  },
  {
   "cell_type": "code",
   "execution_count": 17,
   "metadata": {
    "collapsed": false
   },
   "outputs": [
    {
     "data": {
      "text/plain": [
       "45"
      ]
     },
     "execution_count": 17,
     "metadata": {},
     "output_type": "execute_result"
    }
   ],
   "source": [
    "5 * 3 ** ( 4 - 2 )"
   ]
  },
  {
   "cell_type": "markdown",
   "metadata": {},
   "source": [
    "> 😰"
   ]
  },
  {
   "cell_type": "code",
   "execution_count": null,
   "metadata": {
    "collapsed": true
   },
   "outputs": [],
   "source": []
  }
 ],
 "metadata": {
  "kernelspec": {
   "display_name": "Python 3",
   "language": "python",
   "name": "python3"
  },
  "language_info": {
   "codemirror_mode": {
    "name": "ipython",
    "version": 3
   },
   "file_extension": ".py",
   "mimetype": "text/x-python",
   "name": "python",
   "nbconvert_exporter": "python",
   "pygments_lexer": "ipython3",
   "version": "3.5.2"
  }
 },
 "nbformat": 4,
 "nbformat_minor": 1
}
