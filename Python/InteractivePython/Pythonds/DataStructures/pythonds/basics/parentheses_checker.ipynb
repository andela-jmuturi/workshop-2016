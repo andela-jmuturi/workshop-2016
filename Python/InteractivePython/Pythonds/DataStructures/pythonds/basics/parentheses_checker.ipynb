{
 "cells": [
  {
   "cell_type": "markdown",
   "metadata": {},
   "source": [
    "## Simple parenthesis checker.\n",
    "Balanced parantheses are such that each opening symbol is matched with the corresponding closing symbol and the pairs of parenthesis are properly nested.\n",
    "\n",
    "**Given a string of parentheses, check whether the list is balanced.**\n",
    "\n",
    "### Algorithm description\n",
    "> Starting with an empty stack, process the parenthesis strings from left to right. If a symbol is an opening parenthesis, push it on the stack as a signal that a corresponding closing symbol needs to appear later. If, on the other hand, a symbol is a closing parenthesis, pop the stack. As long as it is possible to pop the stack to match every closing symbol, the parentheses remain balanced. If at any time there is no opening symbol on the stack to match a closing symbol, the string is not balanced properly. At the end of the string, when all symbols have been processed, the stack should be empty."
   ]
  },
  {
   "cell_type": "code",
   "execution_count": 3,
   "metadata": {
    "collapsed": false
   },
   "outputs": [],
   "source": [
    "from stack import Stack"
   ]
  },
  {
   "cell_type": "code",
   "execution_count": 6,
   "metadata": {
    "collapsed": false
   },
   "outputs": [
    {
     "name": "stdout",
     "output_type": "stream",
     "text": [
      "True\n",
      "False\n"
     ]
    }
   ],
   "source": [
    "from stack import Stack\n",
    "\n",
    "def simple_par_checker(symbol_string):\n",
    "    s = Stack()\n",
    "    balanced = True\n",
    "    index = 0\n",
    "    while index < len(symbol_string) and balanced:\n",
    "        symbol = symbol_string[index]\n",
    "        if symbol == '(':\n",
    "            s.push(symbol)\n",
    "        else:\n",
    "            if s.isEmpty():\n",
    "                balanced = False\n",
    "            else:\n",
    "                s.pop()\n",
    "        index += 1\n",
    "    return balanced and s.isEmpty()\n",
    "\n",
    "print(simple_par_checker('((()))'))\n",
    "print(simple_par_checker('(()'))"
   ]
  },
  {
   "cell_type": "markdown",
   "metadata": {},
   "source": [
    "## General Parentheses Checker\n",
    "\n",
    "**Given a string of symbols composed of any of `{[()]}`, check whether that string is balanced.**"
   ]
  },
  {
   "cell_type": "code",
   "execution_count": 2,
   "metadata": {
    "collapsed": false
   },
   "outputs": [
    {
     "name": "stdout",
     "output_type": "stream",
     "text": [
      "True\n",
      "False\n"
     ]
    }
   ],
   "source": [
    "from stack import Stack\n",
    "\n",
    "def general_par_checker(string):\n",
    "    balanced = True\n",
    "    index = 0\n",
    "    s = Stack()\n",
    "    while index < len(string) and balanced:\n",
    "        symbol = string[index]\n",
    "        if symbol in '([{':\n",
    "            s.push(symbol)\n",
    "        else:\n",
    "            if s.isEmpty():\n",
    "                balanced = False\n",
    "            else:\n",
    "                top = s.pop()\n",
    "                if not matches(top, symbol):\n",
    "                    balanced = False\n",
    "        index += 1\n",
    "    return balanced and s.isEmpty()\n",
    "\n",
    "def matches(opening, closing):\n",
    "    openers = '{[('\n",
    "    closers = '}])'\n",
    "    return openers.index(opening) == closers.index(closing)\n",
    "\n",
    "print(general_par_checker('{{([][])}}'))\n",
    "print(general_par_checker('[{()}'))"
   ]
  },
  {
   "cell_type": "code",
   "execution_count": null,
   "metadata": {
    "collapsed": true
   },
   "outputs": [],
   "source": []
  }
 ],
 "metadata": {
  "kernelspec": {
   "display_name": "Python 3",
   "language": "python",
   "name": "python3"
  },
  "language_info": {
   "codemirror_mode": {
    "name": "ipython",
    "version": 3
   },
   "file_extension": ".py",
   "mimetype": "text/x-python",
   "name": "python",
   "nbconvert_exporter": "python",
   "pygments_lexer": "ipython3",
   "version": "3.5.2"
  }
 },
 "nbformat": 4,
 "nbformat_minor": 0
}
