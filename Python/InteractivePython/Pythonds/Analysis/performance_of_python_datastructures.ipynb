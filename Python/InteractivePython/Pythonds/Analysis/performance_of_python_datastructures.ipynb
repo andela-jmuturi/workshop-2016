{
 "cells": [
  {
   "cell_type": "markdown",
   "metadata": {},
   "source": [
    "## Lists\n",
    "Comparison of how different ways to create a list perform"
   ]
  },
  {
   "cell_type": "code",
   "execution_count": 10,
   "metadata": {
    "collapsed": false
   },
   "outputs": [
    {
     "name": "stdout",
     "output_type": "stream",
     "text": [
      "concat:  1.401116880995687 milliseconds\n",
      "append:  0.09661670698551461 milliseconds\n",
      "comprehension:  0.04201147798448801 milliseconds\n",
      "range:  0.02114312897901982 milliseconds\n"
     ]
    }
   ],
   "source": [
    "import timeit\n",
    "\n",
    "def test1():\n",
    "    L = []\n",
    "    for i in range(1000):\n",
    "        L = L + [i]\n",
    "    return L\n",
    "\n",
    "def test2():\n",
    "    L = []\n",
    "    for i in range(1000):\n",
    "        L.append(i)\n",
    "    return L\n",
    "\n",
    "def test3():\n",
    "    return [i for i in range(1000)]\n",
    "\n",
    "def test4():\n",
    "    return list(range(1000))\n",
    "\n",
    "def empty():\n",
    "    pass\n",
    "\n",
    "empty_func_call = timeit.Timer('empty()', 'from __main__ import empty')\n",
    "empty_func_call_time = empty_func_call.timeit(number=1000)\n",
    "\n",
    "t1 = timeit.Timer('test1()', 'from __main__ import test1')\n",
    "print('concat: ', t1.timeit(number=1000), 'milliseconds')\n",
    "\n",
    "t2 = timeit.Timer('test2()', 'from __main__ import test2')\n",
    "print('append: ', t2.timeit(number=1000), 'milliseconds')\n",
    "\n",
    "t3 = timeit.Timer('test3()', 'from __main__ import test3')\n",
    "print('comprehension: ', t3.timeit(number=1000), 'milliseconds')\n",
    "\n",
    "t4 = timeit.Timer('test4()', 'from __main__ import test4')\n",
    "print('range: ', t4.timeit(number=1000), 'milliseconds')"
   ]
  },
  {
   "cell_type": "code",
   "execution_count": null,
   "metadata": {
    "collapsed": true
   },
   "outputs": [],
   "source": []
  }
 ],
 "metadata": {
  "kernelspec": {
   "display_name": "Python 3",
   "language": "python",
   "name": "python3"
  },
  "language_info": {
   "codemirror_mode": {
    "name": "ipython",
    "version": 3
   },
   "file_extension": ".py",
   "mimetype": "text/x-python",
   "name": "python",
   "nbconvert_exporter": "python",
   "pygments_lexer": "ipython3",
   "version": "3.5.2"
  }
 },
 "nbformat": 4,
 "nbformat_minor": 0
}
