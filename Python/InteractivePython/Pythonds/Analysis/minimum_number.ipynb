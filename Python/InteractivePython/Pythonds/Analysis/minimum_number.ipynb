{
 "cells": [
  {
   "cell_type": "markdown",
   "metadata": {},
   "source": [
    "##### Finding the minimum number with a worst case of $n^2$"
   ]
  },
  {
   "cell_type": "code",
   "execution_count": 12,
   "metadata": {
    "collapsed": false
   },
   "outputs": [
    {
     "name": "stdout",
     "output_type": "stream",
     "text": [
      "1\n",
      "1\n",
      "-23\n"
     ]
    }
   ],
   "source": [
    "def minimum_number_nsq(data_list):\n",
    "    \"\"\"\n",
    "    Finding the minimum number with a worst\n",
    "    case \n",
    "    \"\"\"\n",
    "    minimum = data_list[0]\n",
    "    for i in range(len(data_list)):\n",
    "        for j in range(i + 1):\n",
    "            if data_list[j] < minimum:\n",
    "                minimum = data_list[j]\n",
    "    return minimum\n",
    "print(minimum_number_nsq([1, 2, 3, 4]))\n",
    "print(minimum_number_nsq([4, 3, 2, 1]))\n",
    "print(minimum_number_nsq([6, 3, 1, 0, -23, 3, 100]))"
   ]
  },
  {
   "cell_type": "markdown",
   "metadata": {},
   "source": [
    "##### Finding the minimum number with a worst case of $n$"
   ]
  },
  {
   "cell_type": "code",
   "execution_count": 15,
   "metadata": {
    "collapsed": false
   },
   "outputs": [
    {
     "name": "stdout",
     "output_type": "stream",
     "text": [
      "1\n",
      "1\n",
      "-23\n"
     ]
    }
   ],
   "source": [
    "def minimum_number_n(data_list):\n",
    "    minimum = data_list[0]\n",
    "    for element in data_list:\n",
    "        if element < minimum:\n",
    "            minimum = element\n",
    "    return minimum\n",
    "print(minimum_number_nsq([1, 2, 3, 4]))\n",
    "print(minimum_number_nsq([4, 3, 2, 1]))\n",
    "print(minimum_number_nsq([6, 3, 1, 0, -23, 3, 100]))"
   ]
  },
  {
   "cell_type": "code",
   "execution_count": null,
   "metadata": {
    "collapsed": true
   },
   "outputs": [],
   "source": []
  }
 ],
 "metadata": {
  "kernelspec": {
   "display_name": "Python 3",
   "language": "python",
   "name": "python3"
  },
  "language_info": {
   "codemirror_mode": {
    "name": "ipython",
    "version": 3
   },
   "file_extension": ".py",
   "mimetype": "text/x-python",
   "name": "python",
   "nbconvert_exporter": "python",
   "pygments_lexer": "ipython3",
   "version": "3.5.2"
  }
 },
 "nbformat": 4,
 "nbformat_minor": 0
}
