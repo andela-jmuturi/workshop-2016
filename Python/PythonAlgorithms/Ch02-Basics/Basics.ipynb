{
 "cells": [
  {
   "cell_type": "code",
   "execution_count": 1,
   "metadata": {
    "collapsed": false,
    "focus": true,
    "id": "4ffe1869-263a-4b0e-8806-20dbeda83725"
   },
   "outputs": [
    {
     "data": {
      "text/plain": [
       "0.017813404963817447"
      ]
     },
     "execution_count": 1,
     "metadata": {},
     "output_type": "execute_result"
    }
   ],
   "source": [
    "import timeit\n",
    "timeit.timeit('x = 2 + 2')"
   ]
  },
  {
   "cell_type": "code",
   "execution_count": 3,
   "metadata": {
    "collapsed": false,
    "focus": false,
    "id": "a0684f5f-5db7-44b0-87ac-60b958fb3d10"
   },
   "outputs": [
    {
     "data": {
      "text/plain": [
       "0.6214926650027337"
      ]
     },
     "execution_count": 3,
     "metadata": {},
     "output_type": "execute_result"
    }
   ],
   "source": [
    "timeit.timeit('x = sum(range(10))')"
   ]
  },
  {
   "cell_type": "code",
   "execution_count": null,
   "metadata": {
    "collapsed": true,
    "focus": false,
    "id": "e8088b58-4ac1-45c9-a9b5-7717fa88af3a"
   },
   "outputs": [
    {
     "name": "stdout",
     "output_type": "stream",
     "text": [
      "Implementing Trees\n"
     ]
    }
   ],
   "source": [
    "print(\"\"\"\n",
    "Implementing Trees\n",
    "\"\"\")"
   ]
  }
 ],
 "metadata": {
  "kernelspec": {
   "display_name": "Python 3",
   "language": "python",
   "name": "python3"
  },
  "language_info": {
   "codemirror_mode": {
    "name": "ipython",
    "version": 3
   },
   "file_extension": ".py",
   "mimetype": "text/x-python",
   "name": "python",
   "nbconvert_exporter": "python",
   "pygments_lexer": "ipython3",
   "version": "3.5.2"
  }
 },
 "nbformat": 4,
 "nbformat_minor": 0
}
