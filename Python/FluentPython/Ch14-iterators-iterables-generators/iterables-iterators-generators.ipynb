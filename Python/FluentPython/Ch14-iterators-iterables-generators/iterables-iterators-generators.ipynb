{
 "cells": [
  {
   "cell_type": "markdown",
   "metadata": {},
   "source": [
    "### Sequences (Iterables) - The `iter` function\n",
    "- When the interpreter needs to iterate over an object `x`, it calls `iter(x)`.\n",
    "- The iter function:\n",
    "    - Checks whether the object implements `__iter__` method.\n",
    "    - Falls back to `__getitem__` if it's implemented and `__iter__` isn't.\n",
    "    - Raises `TypeError` if that fails.\n",
    "- An object is considered iterable if it implements `__iter__`, or if it implements `__getitem__`, so long as `__getitem__` accepts index keys from 0.\n",
    "- Most accurate way of checking whether an item is iterable is calling `iter` on it, and handling a `TypeError` if it isn't.\n",
    "\n",
    "> #### `iterable`\n",
    "> Any object from which the built-in function `iter` can obtain an iterator. Objects implementing an `__iter__` method are iterable. Sequences are always iterable, so are objects implementing a `__getitem__` method that takes 0-based indices.\n",
    "\n",
    "> This means Python obtains iterators from iterables.\n"
   ]
  },
  {
   "cell_type": "code",
   "execution_count": 6,
   "metadata": {
    "collapsed": true
   },
   "outputs": [],
   "source": [
    "# Sentence - take 1\n",
    "\n",
    "import re\n",
    "import reprlib\n",
    "\n",
    "RE_WORD = re.compile('\\w+')\n",
    "\n",
    "\n",
    "class Sentence:\n",
    "    def __init__(self, text):\n",
    "        self.text = text\n",
    "        self.words = RE_WORD.findall(text)\n",
    "\n",
    "    def __getitem__(self, index):\n",
    "        return self.words[index]\n",
    "\n",
    "    def __len__(self):\n",
    "        return len(self.words)\n",
    "\n",
    "    def __repr__(self):\n",
    "        return 'Sentence(%s)' % reprlib.repr(self.text)\n"
   ]
  },
  {
   "cell_type": "markdown",
   "metadata": {},
   "source": [
    "### Iterators\n",
    "- Standard iterface for an iterator has 2 methods:\n",
    "    - `__next__` - Return the next available item. Raise `StopIteration` when there are no more items.\n",
    "    - `__iter__` - Return `self`. Allows iterators to be used where iterables are expected, e.g in for loops.\n",
    "\n",
    "> #### iterator\n",
    "> Any object that implements the `__next__` no-argument method which returns the next item in series or raises a `StopIteration` when there are no more items. Python iterators implement the `__iter__` method so that they are _iterable_ as well.\n",
    "\n",
    "\n",
    "- Iterables have an `__iter__` method that instantiates a new iterator every time. Iterators implement a `__next__` method that returns individual items and an `__iter__` method that returns `self`.\n",
    "> Iterators are also iterable, but iterables are not iterators.\n",
    "\n",
    "- An iterable should never act as an iterator over itself, i.e, iterables must only implement `__iter__` but not `__next__`.\n",
    "- Iterators should have an `__iter__` method that just returns `self` so that the iterator is iterable, for convenience."
   ]
  },
  {
   "cell_type": "markdown",
   "metadata": {
    "collapsed": true
   },
   "source": [
    "## Classic (GoF) `Iterator` pattern"
   ]
  },
  {
   "cell_type": "code",
   "execution_count": 7,
   "metadata": {
    "collapsed": true
   },
   "outputs": [],
   "source": [
    "\"\"\"\n",
    "Sentence - Take 2\n",
    "\n",
    "This example shows that Sentence is iterable since it implements\n",
    "an __iter__ method.\n",
    "\n",
    "Not very Pythonic.\n",
    "\"\"\"\n",
    "import re\n",
    "import reprlib\n",
    "\n",
    "RE_WORD = re.compile('\\w+')\n",
    "\n",
    "\n",
    "class Sentence:\n",
    "    def __init__(self, text):\n",
    "        self.text = text\n",
    "        self.words = RE_WORD.findall(text)\n",
    "\n",
    "    def __repr__(self):\n",
    "        return 'Sentence(%s)' % reprlib.repr(self.text)\n",
    "\n",
    "    def __iter__(self):\n",
    "        return SentenceIterator(self.words)\n",
    "\n",
    "\n",
    "class SentenceIterator:\n",
    "    def __init__(self, words):\n",
    "        self.words = words\n",
    "        self.index = 0\n",
    "\n",
    "    def __next__(self):\n",
    "        try:\n",
    "            word = self.words[self.index]\n",
    "        except IndexError:\n",
    "            raise StopIteration()\n",
    "\n",
    "        self.index += 1\n",
    "        return word\n",
    "\n",
    "    # implementing __iter__ in an iterator is not necessary to make the iterator\n",
    "    # work. It's the right thing to do though, since iterators are supposed to\n",
    "    # implement both the __next__ and __iter__ methods.\n",
    "    # Doing so makes the iterator pass the\n",
    "    # `issubclass(SentenceIterator, abc.Iterator)` test.\n",
    "    def __iter__(self):\n",
    "        return self\n"
   ]
  },
  {
   "cell_type": "markdown",
   "metadata": {},
   "source": [
    "## Using generators.\n",
    "- You can replace the `SentenceIterator` class with a generator.\n",
    "- Any function with a yield keyword in its body is a generator function.\n",
    "- A generator function - function which, when called, returns a generator object."
   ]
  },
  {
   "cell_type": "code",
   "execution_count": 9,
   "metadata": {
    "collapsed": true
   },
   "outputs": [],
   "source": [
    "# Sentence - Take 3.\n",
    "\n",
    "import re\n",
    "import reprlib\n",
    "\n",
    "RE_WORD = re.compile('\\w+')\n",
    "\n",
    "\n",
    "class Sentence:\n",
    "    def __init__(self, text):\n",
    "        self.text = text\n",
    "        self.words = RE_WORD.findall(text)\n",
    "\n",
    "    def __repr__(self):\n",
    "        return 'Sentence(%s)' % reprlib.repr(self.text)\n",
    "\n",
    "    def __iter__(self):\n",
    "        for word in self.words:\n",
    "            yield word\n",
    "        return # This return is not needed, the function can fall through\n",
    "               # and automatically return.\n"
   ]
  },
  {
   "cell_type": "markdown",
   "metadata": {},
   "source": [
    "##  Lazy Implementation Using Generator Functions.\n",
    "- Lazy implementation postpones producing values to the last possible moment.\n",
    "- Saves memory, may avoid useless processing."
   ]
  },
  {
   "cell_type": "code",
   "execution_count": 11,
   "metadata": {
    "collapsed": true
   },
   "outputs": [],
   "source": [
    "# Sentence - Take #4\n",
    "import re\n",
    "import reprlib\n",
    "\n",
    "RE_WORD = re.compile('\\w+')\n",
    "\n",
    "\n",
    "class Sentence:\n",
    "    def __init__(self, text):\n",
    "        self.text = text\n",
    "\n",
    "    def __repr__(self):\n",
    "        return 'Sentence(%s)' % reprlib.repr(self.text)\n",
    "\n",
    "    def __iter__(self):\n",
    "        # finditer builds an iterator over the matches of RE_WORD, yielding\n",
    "        # MatchObject instances.\n",
    "        for match in RE_WORD.finditer(self.text):\n",
    "            yield match.group() # extract and yield the actual matched text.\n"
   ]
  },
  {
   "cell_type": "markdown",
   "metadata": {},
   "source": [
    "## Generator Expressions\n",
    "- Simple generator functions can be replaced by generator expressions.\n",
    "- Generator expression - like a lazy version of a list comprehension."
   ]
  },
  {
   "cell_type": "code",
   "execution_count": 14,
   "metadata": {
    "collapsed": true
   },
   "outputs": [],
   "source": [
    "def gen_AB():\n",
    "    print('Start')\n",
    "    yield 'A'\n",
    "    print('Continue')\n",
    "    yield 'B'\n",
    "    print('End.')"
   ]
  },
  {
   "cell_type": "code",
   "execution_count": 15,
   "metadata": {
    "collapsed": false
   },
   "outputs": [
    {
     "name": "stdout",
     "output_type": "stream",
     "text": [
      "Start\n",
      "Continue\n",
      "End.\n"
     ]
    }
   ],
   "source": [
    "res1 = [x * 3 for x in gen_AB()]"
   ]
  },
  {
   "cell_type": "code",
   "execution_count": 17,
   "metadata": {
    "collapsed": false
   },
   "outputs": [
    {
     "name": "stdout",
     "output_type": "stream",
     "text": [
      "--> AAA\n",
      "--> BBB\n"
     ]
    }
   ],
   "source": [
    "for i in res1:\n",
    "    print('-->', i)"
   ]
  },
  {
   "cell_type": "markdown",
   "metadata": {},
   "source": [
    "- Notice the list comprehension build eagerly, producing values and printing output."
   ]
  },
  {
   "cell_type": "code",
   "execution_count": 18,
   "metadata": {
    "collapsed": true
   },
   "outputs": [],
   "source": [
    "res2 = (x * 3 for x in gen_AB())"
   ]
  },
  {
   "cell_type": "code",
   "execution_count": 19,
   "metadata": {
    "collapsed": false
   },
   "outputs": [
    {
     "data": {
      "text/plain": [
       "<generator object <genexpr> at 0x10f97d620>"
      ]
     },
     "execution_count": 19,
     "metadata": {},
     "output_type": "execute_result"
    }
   ],
   "source": [
    "res2"
   ]
  },
  {
   "cell_type": "code",
   "execution_count": 20,
   "metadata": {
    "collapsed": false
   },
   "outputs": [
    {
     "name": "stdout",
     "output_type": "stream",
     "text": [
      "Start\n",
      "--> AAA\n",
      "Continue\n",
      "--> BBB\n",
      "End.\n"
     ]
    }
   ],
   "source": [
    "for i in res2:\n",
    "    print('-->', i)"
   ]
  },
  {
   "cell_type": "markdown",
   "metadata": {},
   "source": [
    "- Notice no output is produced until the generator is iterated on and it has to produce values. Only then does the body of gen_AB execute, yielding values and printing output."
   ]
  },
  {
   "cell_type": "code",
   "execution_count": 21,
   "metadata": {
    "collapsed": true
   },
   "outputs": [],
   "source": [
    "# Sentence - Take 5.\n",
    "import re\n",
    "import reprlib\n",
    "\n",
    "RE_WORD = re.compile('\\w+')\n",
    "\n",
    "\n",
    "class Sentence:\n",
    "    def __init__(self, text):\n",
    "        self.text = text\n",
    "\n",
    "    def __repr__(self):\n",
    "        return 'Sentence(%s)' % reprlib.repr(self.text)\n",
    "\n",
    "    def __iter__(self):\n",
    "        # Use a generator expression to build a generator and return it.\n",
    "        return (match.group() for match in RE_WORD.finditer(self.text))\n"
   ]
  },
  {
   "cell_type": "code",
   "execution_count": null,
   "metadata": {
    "collapsed": true
   },
   "outputs": [],
   "source": []
  }
 ],
 "metadata": {
  "kernelspec": {
   "display_name": "Python 3",
   "language": "python",
   "name": "python3"
  },
  "language_info": {
   "codemirror_mode": {
    "name": "ipython",
    "version": 3
   },
   "file_extension": ".py",
   "mimetype": "text/x-python",
   "name": "python",
   "nbconvert_exporter": "python",
   "pygments_lexer": "ipython3",
   "version": "3.5.2"
  }
 },
 "nbformat": 4,
 "nbformat_minor": 1
}
