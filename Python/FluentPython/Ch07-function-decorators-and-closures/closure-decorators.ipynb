{
 "cells": [
  {
   "cell_type": "markdown",
   "metadata": {},
   "source": [
    "# Decorators Intro"
   ]
  },
  {
   "cell_type": "code",
   "execution_count": 2,
   "metadata": {
    "collapsed": false
   },
   "outputs": [
    {
     "name": "stdout",
     "output_type": "stream",
     "text": [
      "**************************************** Calling snooze(.123)\n",
      "[0.12816267s] snooze(0.123) -> None\n",
      "**************************************** Calling factorial(6)\n",
      "[0.00000133s] factorial(1) -> 1\n",
      "[0.00002572s] factorial(2) -> 2\n",
      "[0.00004388s] factorial(3) -> 6\n",
      "[0.00006119s] factorial(4) -> 24\n",
      "[0.00007943s] factorial(5) -> 120\n",
      "[0.00009757s] factorial(6) -> 720\n",
      "6! =  720\n"
     ]
    }
   ],
   "source": [
    "import time\n",
    "from clockdeco import clock\n",
    "\n",
    "@clock\n",
    "def snooze(seconds):\n",
    "    time.sleep(seconds)\n",
    "\n",
    "@clock\n",
    "def factorial(n):\n",
    "    return 1 if n < 2 else n * factorial(n - 1)\n",
    "\n",
    "if __name__ == '__main__':\n",
    "    print('*' * 40, 'Calling snooze(.123)')\n",
    "    snooze(.123)\n",
    "    print('*' * 40, 'Calling factorial(6)')\n",
    "    print('6! = ', factorial(6))"
   ]
  },
  {
   "cell_type": "code",
   "execution_count": 3,
   "metadata": {
    "collapsed": false
   },
   "outputs": [
    {
     "data": {
      "text/plain": [
       "'clocked'"
      ]
     },
     "execution_count": 3,
     "metadata": {},
     "output_type": "execute_result"
    }
   ],
   "source": [
    "factorial.__name__"
   ]
  },
  {
   "cell_type": "code",
   "execution_count": 4,
   "metadata": {
    "collapsed": false
   },
   "outputs": [
    {
     "name": "stdout",
     "output_type": "stream",
     "text": [
      "**************************************** Calling snooze2(.123)\n",
      "[0.12424565s] snooze2(0.123) -> None\n",
      "**************************************** Calling factorial2(6)\n",
      "[0.00000102s] factorial2(1) -> 1\n",
      "[0.00002165s] factorial2(2) -> 2\n",
      "[0.00008309s] factorial2(3) -> 6\n",
      "[0.00009346s] factorial2(4) -> 24\n",
      "[0.00010348s] factorial2(5) -> 120\n",
      "[0.00012046s] factorial2(6) -> 720\n",
      "6! =  720\n"
     ]
    }
   ],
   "source": [
    "import time\n",
    "from clockdeco2 import clock\n",
    "\n",
    "@clock\n",
    "def snooze2(seconds):\n",
    "    time.sleep(seconds)\n",
    "\n",
    "@clock\n",
    "def factorial2(n):\n",
    "    return 1 if n < 2 else n * factorial2(n - 1)\n",
    "\n",
    "if __name__ == '__main__':\n",
    "    print('*' * 40, 'Calling snooze2(.123)')\n",
    "    snooze2(.123)\n",
    "    print('*' * 40, 'Calling factorial2(6)')\n",
    "    print('6! = ', factorial2(6))"
   ]
  },
  {
   "cell_type": "code",
   "execution_count": 5,
   "metadata": {
    "collapsed": false
   },
   "outputs": [
    {
     "data": {
      "text/plain": [
       "'factorial2'"
      ]
     },
     "execution_count": 5,
     "metadata": {},
     "output_type": "execute_result"
    }
   ],
   "source": [
    "factorial2.__name__"
   ]
  },
  {
   "cell_type": "markdown",
   "metadata": {},
   "source": [
    "# Decorators in the stdlib"
   ]
  },
  {
   "cell_type": "code",
   "execution_count": null,
   "metadata": {
    "collapsed": true
   },
   "outputs": [],
   "source": []
  }
 ],
 "metadata": {
  "kernelspec": {
   "display_name": "Python 3",
   "language": "python",
   "name": "python3"
  },
  "language_info": {
   "codemirror_mode": {
    "name": "ipython",
    "version": 3
   },
   "file_extension": ".py",
   "mimetype": "text/x-python",
   "name": "python",
   "nbconvert_exporter": "python",
   "pygments_lexer": "ipython3",
   "version": "3.5.2"
  }
 },
 "nbformat": 4,
 "nbformat_minor": 1
}
