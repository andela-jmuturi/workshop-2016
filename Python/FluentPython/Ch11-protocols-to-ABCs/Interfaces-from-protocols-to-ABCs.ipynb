{
 "cells": [
  {
   "cell_type": "markdown",
   "metadata": {},
   "source": [
    "- **Interface** - A subset of an object's public methods that enable it to play a specific role in the system.\n",
    "- Seen as a set of methods to fulfill a particular role, the interface is then a **_protocol_**.\n",
    "- **Protocol** - An informal interface defined only by documentation and conventions but not in code.\n",
    "- Coz they are informal, protocols cannot be enforced like formal interfaces, i.e., a protocol can be partially implemented in a particular class.\n",
    "- **Duck typing** - Ignoring an object's actual type, focusing instead on ensuring that it implements the method names, signatures and semantics required for its intended use. Operating with objects regardless of their types, as long as they implement certain protocols."
   ]
  },
  {
   "cell_type": "code",
   "execution_count": null,
   "metadata": {
    "collapsed": true
   },
   "outputs": [],
   "source": []
  }
 ],
 "metadata": {
  "kernelspec": {
   "display_name": "Python 3",
   "language": "python",
   "name": "python3"
  },
  "language_info": {
   "codemirror_mode": {
    "name": "ipython",
    "version": 3
   },
   "file_extension": ".py",
   "mimetype": "text/x-python",
   "name": "python",
   "nbconvert_exporter": "python",
   "pygments_lexer": "ipython3",
   "version": "3.5.2"
  }
 },
 "nbformat": 4,
 "nbformat_minor": 1
}
