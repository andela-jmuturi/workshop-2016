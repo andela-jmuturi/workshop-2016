{
 "cells": [
  {
   "cell_type": "markdown",
   "metadata": {},
   "source": [
    "## Category Theory\n",
    "- Branch of maths that can formalize concepts from several different branches such as set theory, logic, e.t.c.\n",
    "- Deals with object, morphisms, transformations\n",
    "- Has the notion of a **category**.\n",
    "- A **category** is a collection with the following components:\n",
    "    - A collection of objects.\n",
    "    - A collection of morphisms\n",
    "    - A notion of composition on the morphisms.\n",
    "    - A distinguished morphism called identity."
   ]
  },
  {
   "cell_type": "code",
   "execution_count": null,
   "metadata": {
    "collapsed": true
   },
   "outputs": [],
   "source": []
  }
 ],
 "metadata": {
  "kernelspec": {
   "display_name": "Javascript (Node.js)",
   "language": "javascript",
   "name": "javascript"
  },
  "language_info": {
   "file_extension": ".js",
   "mimetype": "application/javascript",
   "name": "javascript",
   "version": "6.3.1"
  }
 },
 "nbformat": 4,
 "nbformat_minor": 1
}
