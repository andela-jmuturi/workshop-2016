{
 "cells": [
  {
   "cell_type": "code",
   "execution_count": 11,
   "metadata": {
    "collapsed": false
   },
   "outputs": [
    {
     "data": {
      "text/plain": [
       "undefined"
      ]
     },
     "execution_count": 11,
     "metadata": {},
     "output_type": "execute_result"
    }
   ],
   "source": [
    "var {compose, map, curry, replace, reduce, join} = require('ramda');\n",
    "var accounting = require('accounting');\n",
    "\n",
    "// Example Data\n",
    "var CARS = [\n",
    "  {\n",
    "    name: \"Ferrari FF\",\n",
    "    horsepower: 660,\n",
    "    dollar_value: 700000,\n",
    "    in_stock: true\n",
    "  }, {\n",
    "    name: \"Spyker C12 Zagato\",\n",
    "    horsepower: 650,\n",
    "    dollar_value: 648000,\n",
    "    in_stock: false\n",
    "  }, {\n",
    "    name: \"Jaguar XKR-S\",\n",
    "    horsepower: 550,\n",
    "    dollar_value: 132000,\n",
    "    in_stock: false\n",
    "  }, {\n",
    "    name: \"Audi R8\",\n",
    "    horsepower: 525,\n",
    "    dollar_value: 114200,\n",
    "    in_stock: false\n",
    "  }, {\n",
    "    name: \"Aston Martin One-77\",\n",
    "    horsepower: 750,\n",
    "    dollar_value: 1850000,\n",
    "    in_stock: true\n",
    "  }, {\n",
    "    name: \"Pagani Huayra\",\n",
    "    horsepower: 700,\n",
    "    dollar_value: 1300000,\n",
    "    in_stock: false\n",
    "  }\n",
    "];\n",
    "\n"
   ]
  },
  {
   "cell_type": "code",
   "execution_count": 19,
   "metadata": {
    "collapsed": false
   },
   "outputs": [
    {
     "name": "stdout",
     "output_type": "stream",
     "text": [
      "isLastInStock:  false\n"
     ]
    },
    {
     "data": {
      "text/plain": [
       "undefined"
      ]
     },
     "execution_count": 19,
     "metadata": {},
     "output_type": "execute_result"
    }
   ],
   "source": [
    "// Exercise 1:\n",
    "// ============\n",
    "// Use _.compose() to rewrite the function below. Hint: _.prop() is curried.\n",
    "var isLastInStock = function(cars) {\n",
    "  var last_car = _.last(cars);\n",
    "  return _.prop('in_stock', last_car);\n",
    "};\n",
    "\n",
    "var isLastInStock_FP = compose(_.prop('in_stock'), _.last)\n",
    "console.log('isLastInStock: ', isLastInStock_FP(CARS))\n"
   ]
  },
  {
   "cell_type": "code",
   "execution_count": 20,
   "metadata": {
    "collapsed": false
   },
   "outputs": [
    {
     "name": "stdout",
     "output_type": "stream",
     "text": [
      "nameOfFirstCar:  Ferrari FF\n"
     ]
    },
    {
     "data": {
      "text/plain": [
       "undefined"
      ]
     },
     "execution_count": 20,
     "metadata": {},
     "output_type": "execute_result"
    }
   ],
   "source": [
    "// Exercise 2:\n",
    "// ============\n",
    "// Use _.compose(), _.prop() and _.head() to retrieve the name of the first car.\n",
    "var nameOfFirstCar = compose(_.prop('name'), _.head)\n",
    "\n",
    "console.log('nameOfFirstCar: ', nameOfFirstCar(CARS))"
   ]
  },
  {
   "cell_type": "code",
   "execution_count": 21,
   "metadata": {
    "collapsed": false
   },
   "outputs": [
    {
     "name": "stdout",
     "output_type": "stream",
     "text": [
      "true\n"
     ]
    },
    {
     "data": {
      "text/plain": [
       "undefined"
      ]
     },
     "execution_count": 21,
     "metadata": {},
     "output_type": "execute_result"
    }
   ],
   "source": [
    "// Exercise 3: ============ Use the helper function _averageDollarValue to refactor\n",
    "// averageDollarValue as a composition\n",
    "var add = curry(function(x, y) {\n",
    "    return x + y;\n",
    "});\n",
    "\n",
    "var _average = function(xs) {\n",
    "  return reduce(add, 0, xs) / xs.length;\n",
    "}; // <- leave be\n",
    "\n",
    "var averageDollarValue = function(cars) {\n",
    "  var dollar_values = map(function(c) {\n",
    "    return c.dollar_value;\n",
    "  }, cars);\n",
    "  return _average(dollar_values);\n",
    "};\n",
    "\n",
    "var averageDollarValue_FP = compose(_average, map(_.prop('dollar_value')))\n",
    "\n",
    "console.log(averageDollarValue(CARS) === averageDollarValue_FP(CARS))"
   ]
  },
  {
   "cell_type": "code",
   "execution_count": 22,
   "metadata": {
    "collapsed": false
   },
   "outputs": [
    {
     "data": {
      "text/plain": [
       "[ 'ferrari_ff' ]"
      ]
     },
     "execution_count": 22,
     "metadata": {},
     "output_type": "execute_result"
    }
   ],
   "source": [
    "// Exercise 4:\n",
    "// ============\n",
    "// Write a function: sanitizeNames() using compose that returns a list of lowercase and\n",
    "// underscored car's names: e.g:\n",
    "// sanitizeNames([{name: 'Ferrari FF', horsepower: 660, dollar_value: 700000, in_stock: true}]) //=> ['ferrari_ff'].\n",
    "\n",
    "var _underscore = _.replace(/\\W+/g, '_'); //<-- leave this alone and use to sanitize\n",
    "\n",
    "var toLowerCase = s => s.toLowerCase();\n",
    "\n",
    "var sanitizeNames = map(compose(toLowerCase, _underscore, _.prop('name')));\n",
    "\n",
    "sanitizeNames([{\n",
    "    name: 'Ferrari FF', horsepower: 660, dollar_value: 700000, in_stock: true\n",
    "}])"
   ]
  },
  {
   "cell_type": "code",
   "execution_count": 23,
   "metadata": {
    "collapsed": false
   },
   "outputs": [
    {
     "name": "stdout",
     "output_type": "stream",
     "text": [
      "true\n"
     ]
    },
    {
     "data": {
      "text/plain": [
       "undefined"
      ]
     },
     "execution_count": 23,
     "metadata": {},
     "output_type": "execute_result"
    }
   ],
   "source": [
    "// Bonus 1: ============ Refactor availablePrices with compose.\n",
    "\n",
    "var availablePrices = function(cars) {\n",
    "  var available_cars = _.filter(_.prop('in_stock'), cars);\n",
    "  return available_cars.map(function(x) {\n",
    "    return accounting.formatMoney(x.dollar_value)\n",
    "  }).join(', ');\n",
    "};\n",
    "\n",
    "var availablePrices_FP = compose(\n",
    "    join(', '),\n",
    "    map(compose(accounting.formatMoney, _.prop('dollar_value'))),\n",
    "    _.filter(_.prop('in_stock'))\n",
    ")\n",
    "\n",
    "console.log(availablePrices(CARS) === availablePrices_FP(CARS))"
   ]
  },
  {
   "cell_type": "code",
   "execution_count": 29,
   "metadata": {
    "collapsed": false
   },
   "outputs": [
    {
     "name": "stdout",
     "output_type": "stream",
     "text": [
      "true\n"
     ]
    },
    {
     "data": {
      "text/plain": [
       "'Aston Martin One-77 is the fastest'"
      ]
     },
     "execution_count": 29,
     "metadata": {},
     "output_type": "execute_result"
    }
   ],
   "source": [
    "// Bonus 2: ============ Refactor to pointfree. Hint: you can use _.flip()\n",
    "\n",
    "var fastestCar = function(cars) {\n",
    "  var sorted = _.sortBy(function(car) {\n",
    "    return car.horsepower\n",
    "  }, cars);\n",
    "  var fastest = _.last(sorted);\n",
    "  return fastest.name + ' is the fastest';\n",
    "};\n",
    "\n",
    "var fastestCar_FP = compose(\n",
    "    _.flip(_.concat)(' is the fastest'),\n",
    "    _.prop('name'),\n",
    "    compose(_.last, _.sortBy(_.prop('horsepower')))\n",
    ")\n",
    "\n",
    "console.log(fastestCar(CARS) === fastestCar_FP(CARS))\n",
    "fastestCar_FP(CARS)"
   ]
  },
  {
   "cell_type": "code",
   "execution_count": null,
   "metadata": {
    "collapsed": true
   },
   "outputs": [],
   "source": []
  }
 ],
 "metadata": {
  "kernelspec": {
   "display_name": "Javascript (Node.js)",
   "language": "javascript",
   "name": "javascript"
  },
  "language_info": {
   "file_extension": ".js",
   "mimetype": "application/javascript",
   "name": "javascript",
   "version": "6.3.1"
  }
 },
 "nbformat": 4,
 "nbformat_minor": 1
}
