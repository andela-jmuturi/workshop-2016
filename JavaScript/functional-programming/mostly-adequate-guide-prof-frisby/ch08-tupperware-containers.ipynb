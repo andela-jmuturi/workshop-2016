{
 "cells": [
  {
   "cell_type": "code",
   "execution_count": 1,
   "metadata": {
    "collapsed": false
   },
   "outputs": [
    {
     "data": {
      "text/plain": [
       "undefined"
      ]
     },
     "execution_count": 1,
     "metadata": {},
     "output_type": "execute_result"
    }
   ],
   "source": [
    "const R = require('ramda')"
   ]
  },
  {
   "cell_type": "code",
   "execution_count": 4,
   "metadata": {
    "collapsed": false
   },
   "outputs": [
    {
     "data": {
      "text/plain": [
       "[Function]"
      ]
     },
     "execution_count": 4,
     "metadata": {},
     "output_type": "execute_result"
    }
   ],
   "source": [
    "const Container = function(x) {\n",
    "    this.__value = x;\n",
    "}\n",
    "\n",
    "Container.of = function(x) {\n",
    "    return new Container(x);\n",
    "}"
   ]
  },
  {
   "cell_type": "code",
   "execution_count": 5,
   "metadata": {
    "collapsed": false
   },
   "outputs": [
    {
     "data": {
      "text/plain": [
       "Container { __value: 3 }"
      ]
     },
     "execution_count": 5,
     "metadata": {},
     "output_type": "execute_result"
    }
   ],
   "source": [
    "Container.of(3)"
   ]
  },
  {
   "cell_type": "code",
   "execution_count": 6,
   "metadata": {
    "collapsed": false
   },
   "outputs": [
    {
     "data": {
      "text/plain": [
       "Container { __value: 'hotdogs' }"
      ]
     },
     "execution_count": 6,
     "metadata": {},
     "output_type": "execute_result"
    }
   ],
   "source": [
    "Container.of('hotdogs')"
   ]
  },
  {
   "cell_type": "code",
   "execution_count": 7,
   "metadata": {
    "collapsed": false
   },
   "outputs": [
    {
     "data": {
      "text/plain": [
       "Container { __value: Container { __value: { name: 'yoda' } } }"
      ]
     },
     "execution_count": 7,
     "metadata": {},
     "output_type": "execute_result"
    }
   ],
   "source": [
    "Container.of(Container.of({\n",
    "    name: 'yoda'\n",
    "}))"
   ]
  },
  {
   "cell_type": "code",
   "execution_count": 8,
   "metadata": {
    "collapsed": false
   },
   "outputs": [
    {
     "data": {
      "text/plain": [
       "[Function]"
      ]
     },
     "execution_count": 8,
     "metadata": {},
     "output_type": "execute_result"
    }
   ],
   "source": [
    "// (a -> b) -> Container a -> Container b\n",
    "Container.prototype.map = function(f) {\n",
    "    return Container.of(f(this.__value));\n",
    "}"
   ]
  },
  {
   "cell_type": "code",
   "execution_count": 9,
   "metadata": {
    "collapsed": false
   },
   "outputs": [
    {
     "data": {
      "text/plain": [
       "Container { __value: 4 }"
      ]
     },
     "execution_count": 9,
     "metadata": {},
     "output_type": "execute_result"
    }
   ],
   "source": [
    "Container.of(2).map(two => two + 2)"
   ]
  },
  {
   "cell_type": "code",
   "execution_count": 11,
   "metadata": {
    "collapsed": false
   },
   "outputs": [
    {
     "data": {
      "text/plain": [
       "Container { __value: 'FLAMETHROWERS' }"
      ]
     },
     "execution_count": 11,
     "metadata": {},
     "output_type": "execute_result"
    }
   ],
   "source": [
    "Container.of('flamethrowers').map(s => s.toUpperCase())"
   ]
  },
  {
   "cell_type": "code",
   "execution_count": 12,
   "metadata": {
    "collapsed": false
   },
   "outputs": [
    {
     "data": {
      "text/plain": [
       "Container { __value: 10 }"
      ]
     },
     "execution_count": 12,
     "metadata": {},
     "output_type": "execute_result"
    }
   ],
   "source": [
    "Container.of('bombs').map(R.concat(' away')).map(R.prop('length'))"
   ]
  },
  {
   "cell_type": "markdown",
   "metadata": {},
   "source": [
    "> ## Functors\n",
    "> A `functor` is a type that implements map and obeys some laws. _(as does our container so far)_\n",
    "\n",
    "> Which laws, Professor? 🤔"
   ]
  },
  {
   "cell_type": "code",
   "execution_count": 2,
   "metadata": {
    "collapsed": false
   },
   "outputs": [
    {
     "data": {
      "text/plain": [
       "[Function]"
      ]
     },
     "execution_count": 2,
     "metadata": {},
     "output_type": "execute_result"
    }
   ],
   "source": [
    "const Maybe = function(x) {\n",
    "    this.__value = x\n",
    "}\n",
    "\n",
    "Maybe.of = function(x) {\n",
    "    return new Maybe(x);\n",
    "}\n",
    "\n",
    "Maybe.prototype.isNothing = function() {\n",
    "    return (this.__value === null || this.__value  === undefined);\n",
    "}\n",
    "\n",
    "Maybe.prototype.map = function(f) {\n",
    "    return this.isNothing() ? Maybe.of(null) : Maybe.of(f(this.__value));\n",
    "}"
   ]
  },
  {
   "cell_type": "markdown",
   "metadata": {
    "collapsed": false
   },
   "source": [
    "> ### Maybe\n",
    "> Like Container but skips over null or undefined values."
   ]
  },
  {
   "cell_type": "code",
   "execution_count": 15,
   "metadata": {
    "collapsed": false
   },
   "outputs": [
    {
     "data": {
      "text/plain": [
       "Maybe { __value: null }"
      ]
     },
     "execution_count": 15,
     "metadata": {},
     "output_type": "execute_result"
    }
   ],
   "source": [
    "Maybe.of('Malkovich Malkovich').map(R.match(/a/ig))"
   ]
  },
  {
   "cell_type": "code",
   "execution_count": 16,
   "metadata": {
    "collapsed": false
   },
   "outputs": [
    {
     "data": {
      "text/plain": [
       "Maybe { __value: null }"
      ]
     },
     "execution_count": 16,
     "metadata": {},
     "output_type": "execute_result"
    }
   ],
   "source": [
    "Maybe.of(null).map(R.match(/a/ig))"
   ]
  },
  {
   "cell_type": "code",
   "execution_count": 17,
   "metadata": {
    "collapsed": false
   },
   "outputs": [
    {
     "data": {
      "text/plain": [
       "Maybe { __value: null }"
      ]
     },
     "execution_count": 17,
     "metadata": {},
     "output_type": "execute_result"
    }
   ],
   "source": [
    "Maybe.of({\n",
    "    name: 'Boris'\n",
    "}).map(R.prop('age')).map(R.add(10))"
   ]
  },
  {
   "cell_type": "code",
   "execution_count": 18,
   "metadata": {
    "collapsed": false
   },
   "outputs": [
    {
     "data": {
      "text/plain": [
       "Maybe { __value: null }"
      ]
     },
     "execution_count": 18,
     "metadata": {},
     "output_type": "execute_result"
    }
   ],
   "source": [
    "Maybe.of({\n",
    "    name: 'Dinah',\n",
    "    age: 14\n",
    "}).map(R.prop('age')).map(R.add(10))"
   ]
  },
  {
   "cell_type": "markdown",
   "metadata": {},
   "source": [
    "> _Expected Maybe(24)!_ 😰"
   ]
  },
  {
   "cell_type": "code",
   "execution_count": 19,
   "metadata": {
    "collapsed": false
   },
   "outputs": [
    {
     "data": {
      "text/plain": [
       "Maybe { __value: { name: 'Dinah', age: 14 } }"
      ]
     },
     "execution_count": 19,
     "metadata": {},
     "output_type": "execute_result"
    }
   ],
   "source": [
    "Maybe.of({ name: 'Dinah', age: 14})"
   ]
  },
  {
   "cell_type": "code",
   "execution_count": 20,
   "metadata": {
    "collapsed": false
   },
   "outputs": [
    {
     "data": {
      "text/plain": [
       "Maybe { __value: null }"
      ]
     },
     "execution_count": 20,
     "metadata": {},
     "output_type": "execute_result"
    }
   ],
   "source": [
    "Maybe.of({ name: 'Dinah', age: 14}).map(R.prop('age'))"
   ]
  },
  {
   "cell_type": "code",
   "execution_count": 3,
   "metadata": {
    "collapsed": false
   },
   "outputs": [
    {
     "data": {
      "text/plain": [
       "[Function]"
      ]
     },
     "execution_count": 3,
     "metadata": {},
     "output_type": "execute_result"
    }
   ],
   "source": [
    "// Correct a typo in isNothing\n",
    "Maybe.prototype.isNothing = function() {\n",
    "    return (this.__value === null || this.__value  === undefined);\n",
    "}"
   ]
  },
  {
   "cell_type": "code",
   "execution_count": 23,
   "metadata": {
    "collapsed": false
   },
   "outputs": [
    {
     "data": {
      "text/plain": [
       "Maybe { __value: 14 }"
      ]
     },
     "execution_count": 23,
     "metadata": {},
     "output_type": "execute_result"
    }
   ],
   "source": [
    "Maybe.of({ name: 'Dinah', age: 14}).map(R.prop('age'))"
   ]
  },
  {
   "cell_type": "markdown",
   "metadata": {},
   "source": [
    "> Yay!"
   ]
  },
  {
   "cell_type": "code",
   "execution_count": 24,
   "metadata": {
    "collapsed": false
   },
   "outputs": [
    {
     "data": {
      "text/plain": [
       "Maybe { __value: 24 }"
      ]
     },
     "execution_count": 24,
     "metadata": {},
     "output_type": "execute_result"
    }
   ],
   "source": [
    "Maybe.of({\n",
    "    name: 'Dinah',\n",
    "    age: 14\n",
    "}).map(R.prop('age')).map(R.add(10))"
   ]
  },
  {
   "cell_type": "code",
   "execution_count": 4,
   "metadata": {
    "collapsed": false
   },
   "outputs": [
    {
     "data": {
      "text/plain": [
       "undefined"
      ]
     },
     "execution_count": 4,
     "metadata": {},
     "output_type": "execute_result"
    }
   ],
   "source": [
    "// map :: Functor f => (a -> b) -> fa -> fb\n",
    "const map = R.curry((f, any_functor) => any_functor.map(f))"
   ]
  },
  {
   "cell_type": "code",
   "execution_count": null,
   "metadata": {
    "collapsed": true
   },
   "outputs": [],
   "source": [
    "map()"
   ]
  },
  {
   "cell_type": "markdown",
   "metadata": {},
   "source": [
    "## Use Cases for Maybe\n",
    "- In functions that may fail to return result."
   ]
  },
  {
   "cell_type": "code",
   "execution_count": 5,
   "metadata": {
    "collapsed": false
   },
   "outputs": [
    {
     "data": {
      "text/plain": [
       "undefined"
      ]
     },
     "execution_count": 5,
     "metadata": {},
     "output_type": "execute_result"
    }
   ],
   "source": [
    "const safeHead = xs => Maybe.of(xs[0])\n",
    "const streetName = R.compose(map(R.prop('street')), safeHead, R.prop('addresses'))"
   ]
  },
  {
   "cell_type": "code",
   "execution_count": 6,
   "metadata": {
    "collapsed": false
   },
   "outputs": [
    {
     "data": {
      "text/plain": [
       "Maybe { __value: null }"
      ]
     },
     "execution_count": 6,
     "metadata": {},
     "output_type": "execute_result"
    }
   ],
   "source": [
    "streetName({ addresses: [] })"
   ]
  },
  {
   "cell_type": "code",
   "execution_count": 9,
   "metadata": {
    "collapsed": false
   },
   "outputs": [
    {
     "data": {
      "text/plain": [
       "Maybe { __value: 'Shady Ln' }"
      ]
     },
     "execution_count": 9,
     "metadata": {},
     "output_type": "execute_result"
    }
   ],
   "source": [
    "streetName({\n",
    "    addresses: [{\n",
    "        street: 'Shady Ln',\n",
    "        number: 4201\n",
    "    }]\n",
    "})"
   ]
  },
  {
   "cell_type": "markdown",
   "metadata": {},
   "source": [
    "## Pure Error Handling"
   ]
  },
  {
   "cell_type": "code",
   "execution_count": 2,
   "metadata": {
    "collapsed": false
   },
   "outputs": [
    {
     "data": {
      "text/plain": [
       "[Function]"
      ]
     },
     "execution_count": 2,
     "metadata": {},
     "output_type": "execute_result"
    }
   ],
   "source": [
    "const Left = function(x) {\n",
    "    this.__value = x;\n",
    "}\n",
    "\n",
    "Left.of = function(x) {\n",
    "    return new Left(x);\n",
    "}\n",
    "\n",
    "Left.prototype.map = function(f) {\n",
    "    return this;\n",
    "}"
   ]
  },
  {
   "cell_type": "code",
   "execution_count": 3,
   "metadata": {
    "collapsed": false
   },
   "outputs": [
    {
     "data": {
      "text/plain": [
       "[Function]"
      ]
     },
     "execution_count": 3,
     "metadata": {},
     "output_type": "execute_result"
    }
   ],
   "source": [
    "const Right = function(x) {\n",
    "    this.__value = x;\n",
    "}\n",
    "\n",
    "Right.of = function(x) {\n",
    "    this.__value = x;\n",
    "}\n",
    "\n",
    "Right.prototype.map = function(f) {\n",
    "    return Right.of(f(this.__value));\n",
    "}"
   ]
  },
  {
   "cell_type": "code",
   "execution_count": 14,
   "metadata": {
    "collapsed": false
   },
   "outputs": [
    {
     "ename": "TypeError",
     "evalue": "Cannot read property 'map' of undefined",
     "output_type": "error",
     "traceback": [
      "TypeError: Cannot read property 'map' of undefined",
      "    at evalmachine.<anonymous>:1:17",
      "    at ContextifyScript.Script.runInThisContext (vm.js:25:33)",
      "    at Object.exports.runInThisContext (vm.js:77:17)",
      "    at run ([eval]:608:19)",
      "    at onRunRequest ([eval]:379:22)",
      "    at onMessage ([eval]:347:17)",
      "    at emitTwo (events.js:106:13)",
      "    at process.emit (events.js:191:7)",
      "    at process.nextTick (internal/child_process.js:744:12)",
      "    at _combinedTickCallback (internal/process/next_tick.js:67:7)"
     ]
    }
   ],
   "source": [
    "Right.of('rain').map(str => 'b' + str)"
   ]
  },
  {
   "cell_type": "code",
   "execution_count": 4,
   "metadata": {
    "collapsed": false
   },
   "outputs": [
    {
     "data": {
      "text/plain": [
       "[Function]"
      ]
     },
     "execution_count": 4,
     "metadata": {},
     "output_type": "execute_result"
    }
   ],
   "source": [
    "Right.of = function(x) {\n",
    "    return new Right(x);\n",
    "}"
   ]
  },
  {
   "cell_type": "code",
   "execution_count": 5,
   "metadata": {
    "collapsed": false
   },
   "outputs": [
    {
     "data": {
      "text/plain": [
       "Right { __value: 'brain' }"
      ]
     },
     "execution_count": 5,
     "metadata": {},
     "output_type": "execute_result"
    }
   ],
   "source": [
    "Right.of('rain').map(str => 'b' + str)"
   ]
  },
  {
   "cell_type": "code",
   "execution_count": 6,
   "metadata": {
    "collapsed": false
   },
   "outputs": [
    {
     "data": {
      "text/plain": [
       "Left { __value: 'rain' }"
      ]
     },
     "execution_count": 6,
     "metadata": {},
     "output_type": "execute_result"
    }
   ],
   "source": [
    "Left.of('rain').map(str => 'b' + str)"
   ]
  },
  {
   "cell_type": "code",
   "execution_count": 7,
   "metadata": {
    "collapsed": false
   },
   "outputs": [
    {
     "data": {
      "text/plain": [
       "Right { __value: 'localhost' }"
      ]
     },
     "execution_count": 7,
     "metadata": {},
     "output_type": "execute_result"
    }
   ],
   "source": [
    "Right.of({\n",
    "    host: 'localhost',\n",
    "    port: 80\n",
    "}).map(R.prop('host'))"
   ]
  },
  {
   "cell_type": "code",
   "execution_count": 8,
   "metadata": {
    "collapsed": false
   },
   "outputs": [
    {
     "data": {
      "text/plain": [
       "Left { __value: { host: 'localhost', port: 80 } }"
      ]
     },
     "execution_count": 8,
     "metadata": {},
     "output_type": "execute_result"
    }
   ],
   "source": [
    "Left.of({\n",
    "    host: 'localhost',\n",
    "    port: 80\n",
    "}).map(R.prop('host'))"
   ]
  },
  {
   "cell_type": "markdown",
   "metadata": {},
   "source": [
    "> ### Little `maybe`\n",
    "> You can use little `maybe` to get the value from a `Maybe`.\n",
    "\n",
    "> Takes in a static value, a function and a `Maybe`. Returns the value in the `Maybe` if one exists else returns the static value.\n",
    "\n",
    "```javascript\n",
    "const maybe = R.curry((x, f, m) => m.isNothing() ? x : f(m.__value)))\n",
    "```"
   ]
  },
  {
   "cell_type": "markdown",
   "metadata": {},
   "source": [
    "> ### Either\n",
    "> Using `Either(Left, Right)`, we can branch out in the code to signal failure and we'd know what caused the failure.\n",
    "\n",
    "> Since `Left` ignores map requests, the original error message will not be changed till it gets to its destination."
   ]
  },
  {
   "cell_type": "code",
   "execution_count": 5,
   "metadata": {
    "collapsed": false
   },
   "outputs": [
    {
     "data": {
      "text/plain": [
       "undefined"
      ]
     },
     "execution_count": 5,
     "metadata": {},
     "output_type": "execute_result"
    }
   ],
   "source": [
    "const moment = require('moment')\n",
    "\n",
    "// getAge :: Date -> User -> Either(String, Number)\n",
    "const getAge = R.curry((now, user) => {\n",
    "    const birthdate = moment(user.birthdate, 'YYYY-MM-DD');\n",
    "    if (!birthdate.isValid()) {\n",
    "        return Left.of('Birth date could not be parsed.');\n",
    "    }\n",
    "    return Right.of(now.diff(birthdate, 'years'));\n",
    "});\n"
   ]
  },
  {
   "cell_type": "code",
   "execution_count": 10,
   "metadata": {
    "collapsed": false
   },
   "outputs": [
    {
     "data": {
      "text/plain": [
       "Right { __value: 10 }"
      ]
     },
     "execution_count": 10,
     "metadata": {},
     "output_type": "execute_result"
    }
   ],
   "source": [
    "getAge(moment(), {\n",
    "    birthdate: '2006-04-26'\n",
    "})"
   ]
  },
  {
   "cell_type": "code",
   "execution_count": 14,
   "metadata": {
    "collapsed": false
   },
   "outputs": [
    {
     "data": {
      "text/plain": [
       "Left { __value: 'Birth date could not be parsed.' }"
      ]
     },
     "execution_count": 14,
     "metadata": {},
     "output_type": "execute_result"
    }
   ],
   "source": [
    "getAge(moment(), {\n",
    "    birthdate: '20011304'\n",
    "})"
   ]
  },
  {
   "cell_type": "code",
   "execution_count": 10,
   "metadata": {
    "collapsed": false
   },
   "outputs": [
    {
     "data": {
      "text/plain": [
       "undefined"
      ]
     },
     "execution_count": 10,
     "metadata": {},
     "output_type": "execute_result"
    }
   ],
   "source": [
    "//"
   ]
  },
  {
   "cell_type": "code",
   "execution_count": 7,
   "metadata": {
    "collapsed": false
   },
   "outputs": [
    {
     "data": {
      "text/plain": [
       "undefined"
      ]
     },
     "execution_count": 7,
     "metadata": {},
     "output_type": "execute_result"
    }
   ],
   "source": [
    "// fortune :: Number -> String\n",
    "const fortune = R.compose(R.concat('If you survive, you will be'), R.add(1))\n",
    "\n",
    "// zoltar :: User -> Either(String, _)\n",
    "const zoltar = R.compose(R.map(console.log), R.map(fortune), getAge(moment()))"
   ]
  },
  {
   "cell_type": "code",
   "execution_count": 8,
   "metadata": {
    "collapsed": false
   },
   "outputs": [
    {
     "name": "stdout",
     "output_type": "stream",
     "text": [
      "If you survive, you will be11\n"
     ]
    },
    {
     "data": {
      "text/plain": [
       "Right { __value: undefined }"
      ]
     },
     "execution_count": 8,
     "metadata": {},
     "output_type": "execute_result"
    }
   ],
   "source": [
    "zoltar({\n",
    "    birthdate: '2006-04-2026'\n",
    "})"
   ]
  },
  {
   "cell_type": "code",
   "execution_count": 12,
   "metadata": {
    "collapsed": false
   },
   "outputs": [
    {
     "data": {
      "text/plain": [
       "Left { __value: 'Birth date could not be parsed.' }"
      ]
     },
     "execution_count": 12,
     "metadata": {},
     "output_type": "execute_result"
    }
   ],
   "source": [
    "zoltar({\n",
    "    birthdate: \"Yay!\"\n",
    "})"
   ]
  },
  {
   "cell_type": "markdown",
   "metadata": {},
   "source": [
    "> ### Little `either`\n",
    "> Takes two functions and a static value. Each of those functions should return the same value."
   ]
  },
  {
   "cell_type": "code",
   "execution_count": 11,
   "metadata": {
    "collapsed": false
   },
   "outputs": [
    {
     "data": {
      "text/plain": [
       "undefined"
      ]
     },
     "execution_count": 11,
     "metadata": {},
     "output_type": "execute_result"
    }
   ],
   "source": [
    "// either :: (a -> c) -> (b -> c) -> Either(a b -> c)\n",
    "const either = R.curry((f, g, e) => {\n",
    "    switch(e.constructor) {\n",
    "        case Left:\n",
    "            return f(e.__value)\n",
    "        case Right:\n",
    "            return g(e.__value)\n",
    "    }\n",
    "});"
   ]
  },
  {
   "cell_type": "code",
   "execution_count": 16,
   "metadata": {
    "collapsed": false
   },
   "outputs": [
    {
     "data": {
      "text/plain": [
       "undefined"
      ]
     },
     "execution_count": 16,
     "metadata": {},
     "output_type": "execute_result"
    }
   ],
   "source": [
    "const zolZoltar = R.compose(console.log, either(R.identity, fortune), getAge(moment()))"
   ]
  },
  {
   "cell_type": "code",
   "execution_count": 17,
   "metadata": {
    "collapsed": false
   },
   "outputs": [
    {
     "name": "stdout",
     "output_type": "stream",
     "text": [
      "If you survive, you will be11\n"
     ]
    },
    {
     "data": {
      "text/plain": [
       "undefined"
      ]
     },
     "execution_count": 17,
     "metadata": {},
     "output_type": "execute_result"
    }
   ],
   "source": [
    "zolZoltar({\n",
    "    birthdate: '2006-04-26'\n",
    "})"
   ]
  },
  {
   "cell_type": "code",
   "execution_count": 18,
   "metadata": {
    "collapsed": false
   },
   "outputs": [
    {
     "name": "stdout",
     "output_type": "stream",
     "text": [
      "Birth date could not be parsed.\n"
     ]
    },
    {
     "data": {
      "text/plain": [
       "undefined"
      ]
     },
     "execution_count": 18,
     "metadata": {},
     "output_type": "execute_result"
    }
   ],
   "source": [
    "zolZoltar({\n",
    "    birthdate: 'Yay'\n",
    "})"
   ]
  },
  {
   "cell_type": "markdown",
   "metadata": {},
   "source": [
    "## From impure to Pure\n",
    "- A function with side-effects can be made pure by wrapping its action in another function\n",
    "\n",
    "```javascript\n",
    "// getFromLocalStorage :: String -> (_ -> String)\n",
    "const getFromLocalStorage = function(key) {\n",
    "    return function() {\n",
    "        return localStorage[key];\n",
    "    }\n",
    "}\n",
    "```\n",
    "`getLocalStorage` will now always return a function that, when called, will retrieve `key` from localStorage.\n",
    "\n",
    "We can have a functor (`IO`) that will wrap over functions with side-effects and make them pure.\n",
    "\n",
    "Unlike other functors (Maybe, Either, Container), `IO`'s value is always a function.\n",
    "\n",
    "```javascript\n",
    "const IO = function(f) {\n",
    "    this.__value = f;\n",
    "}\n",
    "\n",
    "IO.of = function(x) {\n",
    "    return new IO(function() {\n",
    "        return x;\n",
    "    });\n",
    "};\n",
    "\n",
    "IO.prototype.map = function(f) {\n",
    "    return new IO(R.compose(f, this.__value))\n",
    "}\n",
    "\n",
    "\n",
    "//  io_window :: IO Window\n",
    "var io_window = new IO(function() {\n",
    "  return window;\n",
    "});\n",
    "\n",
    "io_window.map(function(win) {\n",
    "  return win.innerWidth;\n",
    "});\n",
    "// IO(1430)\n",
    "\n",
    "io_window.map(R.prop('location')).map(R.prop('href')).map(R.split('/'));\n",
    "// IO([\"http:\", \"\", \"localhost:8000\", \"blog\", \"posts\"])\n",
    "\n",
    "\n",
    "//  $ :: String -> IO [DOM]\n",
    "var $ = function(selector) {\n",
    "  return new IO(function() {\n",
    "    return document.querySelectorAll(selector);\n",
    "  });\n",
    "};\n",
    "\n",
    "$('#myDiv').map(R.head).map(function(div) {\n",
    "  return div.innerHTML;\n",
    "});\n",
    "// IO('I am some inner html')\n",
    "```\n",
    "\n",
    "-----\n",
    "\n",
    "Mapping over `IO` builds up an impure computation that has to be executed at some point. The responsibility of actually running the effects is delegated to the calling code."
   ]
  },
  {
   "cell_type": "code",
   "execution_count": null,
   "metadata": {
    "collapsed": true
   },
   "outputs": [],
   "source": []
  }
 ],
 "metadata": {
  "kernelspec": {
   "display_name": "Javascript (Node.js)",
   "language": "javascript",
   "name": "javascript"
  },
  "language_info": {
   "file_extension": ".js",
   "mimetype": "application/javascript",
   "name": "javascript",
   "version": "6.6.0"
  }
 },
 "nbformat": 4,
 "nbformat_minor": 1
}
