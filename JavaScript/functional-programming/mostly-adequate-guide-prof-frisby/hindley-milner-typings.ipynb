{
 "cells": [
  {
   "cell_type": "markdown",
   "metadata": {},
   "source": [
    "## Type signatures using Hindley-Milner system"
   ]
  },
  {
   "cell_type": "code",
   "execution_count": 2,
   "metadata": {
    "collapsed": false
   },
   "outputs": [
    {
     "data": {
      "text/plain": [
       "undefined"
      ]
     },
     "execution_count": 2,
     "metadata": {},
     "output_type": "execute_result"
    }
   ],
   "source": [
    "var { curry } = require('ramda');"
   ]
  },
  {
   "cell_type": "code",
   "execution_count": 2,
   "metadata": {
    "collapsed": false
   },
   "outputs": [
    {
     "data": {
      "text/plain": [
       "undefined"
      ]
     },
     "execution_count": 2,
     "metadata": {},
     "output_type": "execute_result"
    }
   ],
   "source": [
    "// strLength :: String -> Number\n",
    "const strLength = s => s.length;"
   ]
  },
  {
   "cell_type": "code",
   "execution_count": 3,
   "metadata": {
    "collapsed": false
   },
   "outputs": [
    {
     "data": {
      "text/plain": [
       "undefined"
      ]
     },
     "execution_count": 3,
     "metadata": {},
     "output_type": "execute_result"
    }
   ],
   "source": [
    "// join :: String -> [String] -> String\n",
    "const join = curry((what, xs) => xs.join(what))"
   ]
  },
  {
   "cell_type": "code",
   "execution_count": 4,
   "metadata": {
    "collapsed": false
   },
   "outputs": [
    {
     "data": {
      "text/plain": [
       "undefined"
      ]
     },
     "execution_count": 4,
     "metadata": {},
     "output_type": "execute_result"
    }
   ],
   "source": [
    "// match :: Regex -> String -> [String]\n",
    "const match = curry((reg, s) => s.match(reg))"
   ]
  },
  {
   "cell_type": "code",
   "execution_count": 5,
   "metadata": {
    "collapsed": false
   },
   "outputs": [
    {
     "data": {
      "text/plain": [
       "undefined"
      ]
     },
     "execution_count": 5,
     "metadata": {},
     "output_type": "execute_result"
    }
   ],
   "source": [
    "// replace :: Regex -> String -> String -> String\n",
    "const replace = curry((reg, sub, s) => s.replace(reg, sub))"
   ]
  },
  {
   "cell_type": "code",
   "execution_count": 6,
   "metadata": {
    "collapsed": false
   },
   "outputs": [
    {
     "data": {
      "text/plain": [
       "undefined"
      ]
     },
     "execution_count": 6,
     "metadata": {},
     "output_type": "execute_result"
    }
   ],
   "source": [
    "// onHoliday :: String -> [String]\n",
    "const onHoliday = match(/holiday/ig)"
   ]
  },
  {
   "cell_type": "code",
   "execution_count": 1,
   "metadata": {
    "collapsed": false
   },
   "outputs": [
    {
     "data": {
      "text/plain": [
       "undefined"
      ]
     },
     "execution_count": 1,
     "metadata": {},
     "output_type": "execute_result"
    }
   ],
   "source": [
    "// id :: a -> a\n",
    "const id = f => f"
   ]
  },
  {
   "cell_type": "code",
   "execution_count": 3,
   "metadata": {
    "collapsed": false
   },
   "outputs": [
    {
     "data": {
      "text/plain": [
       "undefined"
      ]
     },
     "execution_count": 3,
     "metadata": {},
     "output_type": "execute_result"
    }
   ],
   "source": [
    "// map :: (a -> b) -> [a] -> [b]\n",
    "const map = curry((f, xs) => xs.map(f))"
   ]
  },
  {
   "cell_type": "code",
   "execution_count": 4,
   "metadata": {
    "collapsed": false
   },
   "outputs": [
    {
     "data": {
      "text/plain": [
       "undefined"
      ]
     },
     "execution_count": 4,
     "metadata": {},
     "output_type": "execute_result"
    }
   ],
   "source": [
    "// reduce :: (b -> a -> b) -> b -> [a] -> b\n",
    "const reduce = curry((f, x, xs) => xs.reduce(f, x))"
   ]
  },
  {
   "cell_type": "markdown",
   "metadata": {},
   "source": [
    "## Parametricity\n",
    "> A function will act on all types in a similar manner.\n",
    "\n",
    "```javascript\n",
    "// head :: [a] -> a\n",
    "```\n",
    "`head` should result into an `a` from an array of `a`s regardless of what the type of `a` is.\n",
    "\n",
    "### Free theorems\n",
    "> “if we get the head of our array, then run some function f on it, that is equivalent to, and incidentally, much faster than, if we first map(f) over every element then take the head of the result.”\n",
    "_(Excerpt From: drboolean. “mostly-adequate-guide.” iBooks.)_\n",
    "\n",
    "```javascript\n",
    "// head :: [a] -> a\n",
    "compose(f, head) === compose(head, map(f))\n",
    "```\n",
    "\n",
    "#### Filter theorem\n",
    ">“if we compose f and p to check which should be filtered, then actually apply the f via map (remember filter, will not transform the elements - its signature enforces that a will not be touched), it will always be equivalent to mapping our f then filtering the result with the p predicate.”\n",
    "_(Excerpt From: drboolean. “mostly-adequate-guide.” iBooks)._\n",
    "\n",
    "```javascript\n",
    "// filter :: (a -> Bool) -> [a] -> [a]\n",
    "compose(map(f), filter(compose(p, f))) === compose(filter(p), map(f));\n",
    "```"
   ]
  },
  {
   "cell_type": "markdown",
   "metadata": {},
   "source": [
    "## Constraints\n",
    "```javascript\n",
    "// sort :: Ord a => [a] -> [a]\n",
    "```\n",
    "`a` must be an `Ord` _(Interface within which we can order values)_\n",
    "\n",
    "\n",
    "```javascript\n",
    "// assertEqual :: (Eq a, Show a) => a -> a -> Assertion\n",
    "```\n",
    "`Eq` and `Show` constraints ensure we can check the equality of the `a`s and print the difference if they are not equal."
   ]
  },
  {
   "cell_type": "code",
   "execution_count": null,
   "metadata": {
    "collapsed": true
   },
   "outputs": [],
   "source": []
  }
 ],
 "metadata": {
  "kernelspec": {
   "display_name": "Javascript (Node.js)",
   "language": "javascript",
   "name": "javascript"
  },
  "language_info": {
   "file_extension": ".js",
   "mimetype": "application/javascript",
   "name": "javascript",
   "version": "6.6.0"
  }
 },
 "nbformat": 4,
 "nbformat_minor": 1
}
