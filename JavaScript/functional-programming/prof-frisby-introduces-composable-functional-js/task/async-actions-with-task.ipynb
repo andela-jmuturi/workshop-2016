{
 "cells": [
  {
   "cell_type": "code",
   "execution_count": 1,
   "metadata": {
    "collapsed": false
   },
   "outputs": [
    {
     "data": {
      "text/plain": [
       "undefined"
      ]
     },
     "execution_count": 1,
     "metadata": {},
     "output_type": "execute_result"
    }
   ],
   "source": [
    "const Task = require('data.task')\n",
    "const fs = require('fs')"
   ]
  },
  {
   "cell_type": "markdown",
   "metadata": {
    "collapsed": true
   },
   "source": [
    "### Refactor async actions with Task\n",
    "- We need to refactor the following to use Task:\n",
    "```javascript\n",
    "const app = () =>\n",
    "    fs.readFile('config.json', 'utf-8', (err, contents) => {\n",
    "        if (err) throw err\n",
    "            const newContents = contents.replace(/8/g, '6')\n",
    "            fs.writeFile('config1.json', newContents, (err, _) => {\n",
    "                if (err) throw err\n",
    "                console.log('success!')\n",
    "            })\n",
    "    })\n",
    "```\n",
    "\n",
    "`config.json`:\n",
    "```json\n",
    "{\n",
    "    \"port\": 8888\n",
    "}\n",
    "```"
   ]
  },
  {
   "cell_type": "code",
   "execution_count": 2,
   "metadata": {
    "collapsed": false
   },
   "outputs": [
    {
     "data": {
      "text/plain": [
       "undefined"
      ]
     },
     "execution_count": 2,
     "metadata": {},
     "output_type": "execute_result"
    },
    {
     "name": "stdout",
     "output_type": "stream",
     "text": [
      "success:  undefined\n"
     ]
    }
   ],
   "source": [
    "const readFile = (filename, enc) =>\n",
    "    new Task((rej, res) =>\n",
    "        fs.readFile(filename, enc, (err, contents) => err ? rej(err) : res(contents)))\n",
    "\n",
    "const writeFile = (filename, contents) =>\n",
    "    new Task((rej, res) =>\n",
    "        fs.writeFile(filename, contents, (err, success) => err ? rej(err) : res(success)))\n",
    "\n",
    "const app = () =>\n",
    "    readFile('config.json', 'utf-8')\n",
    "    .map(contents => contents.replace(/8/g, '6'))\n",
    "    .chain(contents => writeFile('config1.json', contents))\n",
    "\n",
    "app().fork(console.log, x => console.log('success'))"
   ]
  },
  {
   "cell_type": "markdown",
   "metadata": {
    "collapsed": true
   },
   "source": [
    "- You don't have to make `app` a function. You can reuse the same Task from `readFile` instead of creating a new one."
   ]
  },
  {
   "cell_type": "code",
   "execution_count": 3,
   "metadata": {
    "collapsed": false
   },
   "outputs": [
    {
     "data": {
      "text/plain": [
       "undefined"
      ]
     },
     "execution_count": 3,
     "metadata": {},
     "output_type": "execute_result"
    }
   ],
   "source": [
    "const app1 =\n",
    "    readFile('config.json', 'utf-8')\n",
    "    .map(contents => contents.replace(/8/g, '6'))\n",
    "    .chain(contents => writeFile('config1.json', contents))"
   ]
  },
  {
   "cell_type": "code",
   "execution_count": 4,
   "metadata": {
    "collapsed": false
   },
   "outputs": [
    {
     "data": {
      "text/plain": [
       "undefined"
      ]
     },
     "execution_count": 4,
     "metadata": {},
     "output_type": "execute_result"
    },
    {
     "name": "stdout",
     "output_type": "stream",
     "text": [
      "success!\n"
     ]
    }
   ],
   "source": [
    "app1.fork(console.log, x => console.log('success!'))"
   ]
  },
  {
   "cell_type": "code",
   "execution_count": null,
   "metadata": {
    "collapsed": true
   },
   "outputs": [],
   "source": []
  }
 ],
 "metadata": {
  "kernelspec": {
   "display_name": "Javascript (Node.js)",
   "language": "javascript",
   "name": "javascript"
  },
  "language_info": {
   "file_extension": ".js",
   "mimetype": "application/javascript",
   "name": "javascript",
   "version": "6.6.0"
  }
 },
 "nbformat": 4,
 "nbformat_minor": 1
}
