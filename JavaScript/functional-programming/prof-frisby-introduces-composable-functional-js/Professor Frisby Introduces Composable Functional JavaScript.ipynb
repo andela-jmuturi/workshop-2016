{
 "cells": [
  {
   "cell_type": "markdown",
   "metadata": {},
   "source": [
    "### Semigroup\n",
    "> A type with a concat method that's associative.\n",
    "\n",
    "```javascript\n",
    "const res = 'a'.concat('b').concat('c') // 'abc'\n",
    "```\n",
    "\n",
    "#### Associativity\n",
    "```javascript\n",
    "'a'.concat('b').concat('c') === 'a'.concat('b'.concat('c'))\n",
    "```"
   ]
  },
  {
   "cell_type": "markdown",
   "metadata": {},
   "source": [
    "### Monoid\n",
    "> A Semigroup with a special element that acts like a neutral identity\n",
    "\n",
    "```javascript\n",
    "1 + 0 // 1\n",
    "2 + 0 // 2\n",
    "x + 0 // x\n",
    "```"
   ]
  },
  {
   "cell_type": "markdown",
   "metadata": {
    "collapsed": true
   },
   "source": [
    "### Sum Semigroup"
   ]
  },
  {
   "cell_type": "code",
   "execution_count": 1,
   "metadata": {
    "collapsed": false
   },
   "outputs": [
    {
     "data": {
      "text/plain": [
       "undefined"
      ]
     },
     "execution_count": 1,
     "metadata": {},
     "output_type": "execute_result"
    }
   ],
   "source": [
    "const Sum = x => ({\n",
    "    x,\n",
    "    concat: ({x: y}) => Sum(x + y),\n",
    "    inspect: () => `Sum(${x})`\n",
    "})"
   ]
  },
  {
   "cell_type": "code",
   "execution_count": 2,
   "metadata": {
    "collapsed": false
   },
   "outputs": [
    {
     "data": {
      "text/plain": [
       "Sum(3)"
      ]
     },
     "execution_count": 2,
     "metadata": {},
     "output_type": "execute_result"
    }
   ],
   "source": [
    "Sum(1).concat(Sum(2))"
   ]
  },
  {
   "cell_type": "markdown",
   "metadata": {},
   "source": [
    "- `Sum` is a semigroup since it has a concat method and it's associative, i.e\n",
    "```javascript\n",
    "Sum(1).concat(Sum(2)).concat(Sum(3)) === Sum(1).concat(Sum(2).concat(Sum(3)))\n",
    "```"
   ]
  },
  {
   "cell_type": "code",
   "execution_count": 4,
   "metadata": {
    "collapsed": false
   },
   "outputs": [
    {
     "data": {
      "text/plain": [
       "true"
      ]
     },
     "execution_count": 4,
     "metadata": {},
     "output_type": "execute_result"
    }
   ],
   "source": [
    "Sum(1).concat(Sum(2)).concat(Sum(3)).x === Sum(1).concat(Sum(2).concat(Sum(3))).x"
   ]
  },
  {
   "cell_type": "markdown",
   "metadata": {},
   "source": [
    "### Sum Monoid"
   ]
  },
  {
   "cell_type": "code",
   "execution_count": 6,
   "metadata": {
    "collapsed": false
   },
   "outputs": [
    {
     "data": {
      "text/plain": [
       "[Function]"
      ]
     },
     "execution_count": 6,
     "metadata": {},
     "output_type": "execute_result"
    }
   ],
   "source": [
    "Sum.empty = () => Sum(0)"
   ]
  },
  {
   "cell_type": "code",
   "execution_count": 7,
   "metadata": {
    "collapsed": false
   },
   "outputs": [
    {
     "data": {
      "text/plain": [
       "Sum(2)"
      ]
     },
     "execution_count": 7,
     "metadata": {},
     "output_type": "execute_result"
    }
   ],
   "source": [
    "Sum.empty().concat(Sum(2))"
   ]
  },
  {
   "cell_type": "code",
   "execution_count": null,
   "metadata": {
    "collapsed": true
   },
   "outputs": [],
   "source": []
  }
 ],
 "metadata": {
  "kernelspec": {
   "display_name": "Javascript (Node.js)",
   "language": "javascript",
   "name": "javascript"
  },
  "language_info": {
   "file_extension": ".js",
   "mimetype": "application/javascript",
   "name": "javascript",
   "version": "6.6.0"
  }
 },
 "nbformat": 4,
 "nbformat_minor": 1
}
